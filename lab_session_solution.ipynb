{
 "cells": [
  {
   "cell_type": "markdown",
   "metadata": {},
   "source": [
    "# Lab session: Training a text classifier with BERT\n",
    "***To automatically detect the use of <ins>unamed sources</ins> in a*** **New York Time** ***corpus***"
   ]
  },
  {
   "cell_type": "markdown",
   "metadata": {},
   "source": [
    "e.g.\n",
    "\n",
    "Even <ins>one of Mr. Bush's advisers acknowledged</ins>: \"I think he worked hard in New Hampshire, but I think they were all surprised by how hard he had to work.\"\n",
    "\n",
    "For their part, <ins>New York officials say</ins> they are not trying to cut New Jersey out of the process."
   ]
  },
  {
   "cell_type": "markdown",
   "metadata": {},
   "source": [
    "**Import packages**"
   ]
  },
  {
   "cell_type": "code",
   "execution_count": 1,
   "metadata": {
    "id": "CEoNPPKZ0JZj"
   },
   "outputs": [],
   "source": [
    "import pandas as pd\n",
    "import numpy as np"
   ]
  },
  {
   "cell_type": "code",
   "execution_count": 2,
   "metadata": {
    "colab": {
     "base_uri": "https://localhost:8080/",
     "height": 147,
     "referenced_widgets": [
      "6dc89b0aff404732b85028ff26243bc5",
      "0a5643b622324f8a83f80dea5bf7881c",
      "4cc927af1bd5435e90076cb78689192f",
      "9570395f88da40e5b4177ec9dbf83268",
      "51c137119e924c3e99984bb40a07f7ce",
      "541460d1002c4e4192f2101d8af2a819",
      "c87e36d6515347448709f0940dcc36d4",
      "8982b27018fc4fdf9d1063633b39f7a0",
      "590d55d2c0054763a2594d8227104e16",
      "eddc25c8a16b47ea8d38a32a47241a9d",
      "d0f7ad0a585143cc891bfcdf7db24f1c",
      "88e165ee13a143bba8747ab7c192119d",
      "641aa2ab2f294cbba62ab7f2e5dda3b1",
      "dbf8066792124c54b21e397c8632cec4",
      "6125b9e9693d405dbf9b1a0224e1dfbf",
      "4bc59c0714884f4993eefd2802ffafe0",
      "264dc3611a604af5935989cb0261d2d5",
      "cb2c295252114abe8d2330e1f7fb2801",
      "02325303d03244c396a1f598a212b280",
      "2476d0358ff24fd69400ddbe3aaed987",
      "955fbd47307941a988d150b39649cc1e",
      "0c5c5081b6584632a5fca1b1361eab53",
      "100086b6d4624c0b92fef53b4ef66058",
      "5b35c4ceb44e4ffe842b261144bf52cd",
      "5e04a54360434c27a7c3b9985e057ffe",
      "d7d10183bdcc4edb90c0f1c5be47dd6b",
      "eda7fd9aaeef4e368a11d4c207af30a4",
      "858dac52492c46699c63c8c7d0e5625e",
      "c1bb07bb8e91486e9b04ba3842fe3c4d",
      "760e044724e446e9bbcc29c75cb9b1c9",
      "abdbb580d76944f497e6cc191d742a30",
      "9b000debfab7422f996e3ac095f16702",
      "79ce38e6864c44cabac5269531636018"
     ]
    },
    "id": "HV2gO6fg0Shx",
    "outputId": "7358a892-9932-407e-f161-ecc102f553e3",
    "scrolled": false
   },
   "outputs": [
    {
     "name": "stderr",
     "output_type": "stream",
     "text": [
      "2023-06-27 14:06:47.476963: I tensorflow/core/platform/cpu_feature_guard.cc:182] This TensorFlow binary is optimized to use available CPU instructions in performance-critical operations.\n",
      "To enable the following instructions: AVX2 FMA, in other operations, rebuild TensorFlow with the appropriate compiler flags.\n",
      "2023-06-27 14:06:48.876290: W tensorflow/compiler/tf2tensorrt/utils/py_utils.cc:38] TF-TRT Warning: Could not find TensorRT\n"
     ]
    },
    {
     "name": "stdout",
     "output_type": "stream",
     "text": [
      "There are 1 GPU(s) available.\n",
      "We will use GPU 0: Quadro P5000\n"
     ]
    },
    {
     "data": {
      "application/vnd.jupyter.widget-view+json": {
       "model_id": "1fbdb59d6cc242fbb001e7ca716028ab",
       "version_major": 2,
       "version_minor": 0
      },
      "text/plain": [
       "Downloading (…)solve/main/vocab.txt:   0%|          | 0.00/232k [00:00<?, ?B/s]"
      ]
     },
     "metadata": {},
     "output_type": "display_data"
    },
    {
     "data": {
      "application/vnd.jupyter.widget-view+json": {
       "model_id": "b03b61583c0a47ea93f9120a798e7430",
       "version_major": 2,
       "version_minor": 0
      },
      "text/plain": [
       "Downloading (…)okenizer_config.json:   0%|          | 0.00/28.0 [00:00<?, ?B/s]"
      ]
     },
     "metadata": {},
     "output_type": "display_data"
    },
    {
     "data": {
      "application/vnd.jupyter.widget-view+json": {
       "model_id": "9381aa1e51294df6a7f7144b8f2fab42",
       "version_major": 2,
       "version_minor": 0
      },
      "text/plain": [
       "Downloading (…)lve/main/config.json:   0%|          | 0.00/570 [00:00<?, ?B/s]"
      ]
     },
     "metadata": {},
     "output_type": "display_data"
    }
   ],
   "source": [
    "from AugmentedSocialScientist import bert"
   ]
  },
  {
   "cell_type": "markdown",
   "metadata": {},
   "source": [
    "## 1. Tokenization "
   ]
  },
  {
   "cell_type": "markdown",
   "metadata": {},
   "source": [
    "Cut the corpus to annotation units (e.g. sentences)"
   ]
  },
  {
   "cell_type": "code",
   "execution_count": 3,
   "metadata": {
    "scrolled": true
   },
   "outputs": [
    {
     "data": {
      "text/plain": [
       "\"In its fumbling attempts to explain the purge of United States attorneys, the Bush administration has argued that the fired prosecutors were not aggressive enough about addressing voter fraud. It is a phony argument; there is no evidence that any of them ignored real instances of voter fraud. But more than that, it is a window on what may be a major reason for some of the firings.   In partisan Republican circles, the pursuit of voter fraud is code for suppressing the votes of minorities and poor people. By resisting pressure to crack down on ''fraud,'' the fired United States attorneys actually appear to have been standing up for the integrity of the election system.   TD John McKay, one of the fired attorneys, says he was pressured by Republicans to bring voter fraud charges after the 2004 Washington governor's race, which a Democrat, Christine Gregoire, won after two recounts. Republicans were trying to overturn an election result they did not like, but Mr. McKay refused to go along. ''There was no evidence,'' he said, ''and I am not going to drag innocent people in front of a grand jury.''   Later, when he interviewed with Harriet Miers, then the White House counsel, for a federal judgeship that he ultimately did not get, he says, he was asked to explain ''criticism that I mishandled the 2004 governor's election.''   Mr. McKay is not the only one of the federal attorneys who may have been brought down for refusing to pursue dubious voter fraud cases. Before David Iglesias of New Mexico was fired, prominent New Mexico Republicans reportedly complained repeatedly to Karl Rove about Mr. Iglesias's failure to indict Democrats for voter fraud. The White House said that last October, just weeks before Mr. McKay and most of the others were fired, President Bush complained that United States attorneys were not pursuing voter fraud aggressively enough.   There is no evidence of rampant voter fraud in this country. Rather, Republicans under Mr. Bush have used such allegations as an excuse to suppress the votes of Democratic-leaning groups. They have intimidated Native American voter registration campaigners in South Dakota with baseless charges of fraud. They have pushed through harsh voter ID bills in states like Georgia and Missouri, both blocked by the courts, that were designed to make it hard for people who lack drivers' licenses -- who are disproportionately poor, elderly or members of minorities -- to vote. Florida passed a law placing such onerous conditions on voter registration drives, which register many members of minorities and poor people, that the League of Women Voters of Florida suspended its registration work in the state.   The claims of vote fraud used to promote these measures usually fall apart on close inspection, as Mr. McKay saw. Missouri Republicans have long charged that St. Louis voters, by which they mean black voters, registered as living on vacant lots. But when The St. Louis Post-Dispatch checked, it found that thousands of people lived in buildings on lots that the city had erroneously classified as vacant.   The United States attorney purge appears to have been prompted by an array of improper political motives. Carol Lam, the San Diego attorney, seems to have been fired to stop her from continuing an investigation that put Republican officials and campaign contributors at risk. These charges, like the accusation that Mr. McKay and other United States attorneys were insufficiently aggressive about voter fraud, are a way of saying, without actually saying, that they would not use their offices to help Republicans win elections. It does not justify their firing; it makes their firing a graver offense.    NS \""
      ]
     },
     "execution_count": 3,
     "metadata": {},
     "output_type": "execute_result"
    }
   ],
   "source": [
    "text = \"In its fumbling attempts to explain the purge of United States attorneys, the Bush administration has argued that the fired prosecutors were not aggressive enough about addressing voter fraud. It is a phony argument; there is no evidence that any of them ignored real instances of voter fraud. But more than that, it is a window on what may be a major reason for some of the firings.   In partisan Republican circles, the pursuit of voter fraud is code for suppressing the votes of minorities and poor people. By resisting pressure to crack down on ''fraud,'' the fired United States attorneys actually appear to have been standing up for the integrity of the election system.   TD John McKay, one of the fired attorneys, says he was pressured by Republicans to bring voter fraud charges after the 2004 Washington governor's race, which a Democrat, Christine Gregoire, won after two recounts. Republicans were trying to overturn an election result they did not like, but Mr. McKay refused to go along. ''There was no evidence,'' he said, ''and I am not going to drag innocent people in front of a grand jury.''   Later, when he interviewed with Harriet Miers, then the White House counsel, for a federal judgeship that he ultimately did not get, he says, he was asked to explain ''criticism that I mishandled the 2004 governor's election.''   Mr. McKay is not the only one of the federal attorneys who may have been brought down for refusing to pursue dubious voter fraud cases. Before David Iglesias of New Mexico was fired, prominent New Mexico Republicans reportedly complained repeatedly to Karl Rove about Mr. Iglesias's failure to indict Democrats for voter fraud. The White House said that last October, just weeks before Mr. McKay and most of the others were fired, President Bush complained that United States attorneys were not pursuing voter fraud aggressively enough.   There is no evidence of rampant voter fraud in this country. Rather, Republicans under Mr. Bush have used such allegations as an excuse to suppress the votes of Democratic-leaning groups. They have intimidated Native American voter registration campaigners in South Dakota with baseless charges of fraud. They have pushed through harsh voter ID bills in states like Georgia and Missouri, both blocked by the courts, that were designed to make it hard for people who lack drivers' licenses -- who are disproportionately poor, elderly or members of minorities -- to vote. Florida passed a law placing such onerous conditions on voter registration drives, which register many members of minorities and poor people, that the League of Women Voters of Florida suspended its registration work in the state.   The claims of vote fraud used to promote these measures usually fall apart on close inspection, as Mr. McKay saw. Missouri Republicans have long charged that St. Louis voters, by which they mean black voters, registered as living on vacant lots. But when The St. Louis Post-Dispatch checked, it found that thousands of people lived in buildings on lots that the city had erroneously classified as vacant.   The United States attorney purge appears to have been prompted by an array of improper political motives. Carol Lam, the San Diego attorney, seems to have been fired to stop her from continuing an investigation that put Republican officials and campaign contributors at risk. These charges, like the accusation that Mr. McKay and other United States attorneys were insufficiently aggressive about voter fraud, are a way of saying, without actually saying, that they would not use their offices to help Republicans win elections. It does not justify their firing; it makes their firing a graver offense.    NS \"\n",
    "text"
   ]
  },
  {
   "cell_type": "code",
   "execution_count": 4,
   "metadata": {},
   "outputs": [
    {
     "name": "stderr",
     "output_type": "stream",
     "text": [
      "[nltk_data] Downloading package punkt to /root/nltk_data...\n",
      "[nltk_data]   Unzipping tokenizers/punkt.zip.\n"
     ]
    }
   ],
   "source": [
    "import nltk\n",
    "nltk.download('punkt')\n",
    "\n",
    "from nltk.tokenize import sent_tokenize"
   ]
  },
  {
   "cell_type": "code",
   "execution_count": 5,
   "metadata": {},
   "outputs": [],
   "source": [
    "sentences = sent_tokenize(text)"
   ]
  },
  {
   "cell_type": "code",
   "execution_count": 6,
   "metadata": {
    "scrolled": true
   },
   "outputs": [
    {
     "data": {
      "text/plain": [
       "['In its fumbling attempts to explain the purge of United States attorneys, the Bush administration has argued that the fired prosecutors were not aggressive enough about addressing voter fraud.',\n",
       " 'It is a phony argument; there is no evidence that any of them ignored real instances of voter fraud.',\n",
       " 'But more than that, it is a window on what may be a major reason for some of the firings.',\n",
       " 'In partisan Republican circles, the pursuit of voter fraud is code for suppressing the votes of minorities and poor people.',\n",
       " \"By resisting pressure to crack down on ''fraud,'' the fired United States attorneys actually appear to have been standing up for the integrity of the election system.\",\n",
       " \"TD John McKay, one of the fired attorneys, says he was pressured by Republicans to bring voter fraud charges after the 2004 Washington governor's race, which a Democrat, Christine Gregoire, won after two recounts.\",\n",
       " 'Republicans were trying to overturn an election result they did not like, but Mr. McKay refused to go along.',\n",
       " \"''There was no evidence,'' he said, ''and I am not going to drag innocent people in front of a grand jury.''\",\n",
       " \"Later, when he interviewed with Harriet Miers, then the White House counsel, for a federal judgeship that he ultimately did not get, he says, he was asked to explain ''criticism that I mishandled the 2004 governor's election.''\",\n",
       " 'Mr. McKay is not the only one of the federal attorneys who may have been brought down for refusing to pursue dubious voter fraud cases.',\n",
       " \"Before David Iglesias of New Mexico was fired, prominent New Mexico Republicans reportedly complained repeatedly to Karl Rove about Mr. Iglesias's failure to indict Democrats for voter fraud.\",\n",
       " 'The White House said that last October, just weeks before Mr. McKay and most of the others were fired, President Bush complained that United States attorneys were not pursuing voter fraud aggressively enough.',\n",
       " 'There is no evidence of rampant voter fraud in this country.',\n",
       " 'Rather, Republicans under Mr. Bush have used such allegations as an excuse to suppress the votes of Democratic-leaning groups.',\n",
       " 'They have intimidated Native American voter registration campaigners in South Dakota with baseless charges of fraud.',\n",
       " \"They have pushed through harsh voter ID bills in states like Georgia and Missouri, both blocked by the courts, that were designed to make it hard for people who lack drivers' licenses -- who are disproportionately poor, elderly or members of minorities -- to vote.\",\n",
       " 'Florida passed a law placing such onerous conditions on voter registration drives, which register many members of minorities and poor people, that the League of Women Voters of Florida suspended its registration work in the state.',\n",
       " 'The claims of vote fraud used to promote these measures usually fall apart on close inspection, as Mr. McKay saw.',\n",
       " 'Missouri Republicans have long charged that St. Louis voters, by which they mean black voters, registered as living on vacant lots.',\n",
       " 'But when The St. Louis Post-Dispatch checked, it found that thousands of people lived in buildings on lots that the city had erroneously classified as vacant.',\n",
       " 'The United States attorney purge appears to have been prompted by an array of improper political motives.',\n",
       " 'Carol Lam, the San Diego attorney, seems to have been fired to stop her from continuing an investigation that put Republican officials and campaign contributors at risk.',\n",
       " 'These charges, like the accusation that Mr. McKay and other United States attorneys were insufficiently aggressive about voter fraud, are a way of saying, without actually saying, that they would not use their offices to help Republicans win elections.',\n",
       " 'It does not justify their firing; it makes their firing a graver offense.',\n",
       " 'NS']"
      ]
     },
     "execution_count": 6,
     "metadata": {},
     "output_type": "execute_result"
    }
   ],
   "source": [
    "sentences"
   ]
  },
  {
   "cell_type": "code",
   "execution_count": 7,
   "metadata": {
    "scrolled": true
   },
   "outputs": [
    {
     "data": {
      "text/html": [
       "<div>\n",
       "<style scoped>\n",
       "    .dataframe tbody tr th:only-of-type {\n",
       "        vertical-align: middle;\n",
       "    }\n",
       "\n",
       "    .dataframe tbody tr th {\n",
       "        vertical-align: top;\n",
       "    }\n",
       "\n",
       "    .dataframe thead th {\n",
       "        text-align: right;\n",
       "    }\n",
       "</style>\n",
       "<table border=\"1\" class=\"dataframe\">\n",
       "  <thead>\n",
       "    <tr style=\"text-align: right;\">\n",
       "      <th></th>\n",
       "      <th>text</th>\n",
       "    </tr>\n",
       "  </thead>\n",
       "  <tbody>\n",
       "    <tr>\n",
       "      <th>0</th>\n",
       "      <td>In its fumbling attempts to explain the purge ...</td>\n",
       "    </tr>\n",
       "    <tr>\n",
       "      <th>1</th>\n",
       "      <td>It is a phony argument; there is no evidence t...</td>\n",
       "    </tr>\n",
       "    <tr>\n",
       "      <th>2</th>\n",
       "      <td>But more than that, it is a window on what may...</td>\n",
       "    </tr>\n",
       "    <tr>\n",
       "      <th>3</th>\n",
       "      <td>In partisan Republican circles, the pursuit of...</td>\n",
       "    </tr>\n",
       "    <tr>\n",
       "      <th>4</th>\n",
       "      <td>By resisting pressure to crack down on ''fraud...</td>\n",
       "    </tr>\n",
       "    <tr>\n",
       "      <th>5</th>\n",
       "      <td>TD John McKay, one of the fired attorneys, say...</td>\n",
       "    </tr>\n",
       "    <tr>\n",
       "      <th>6</th>\n",
       "      <td>Republicans were trying to overturn an electio...</td>\n",
       "    </tr>\n",
       "    <tr>\n",
       "      <th>7</th>\n",
       "      <td>''There was no evidence,'' he said, ''and I am...</td>\n",
       "    </tr>\n",
       "    <tr>\n",
       "      <th>8</th>\n",
       "      <td>Later, when he interviewed with Harriet Miers,...</td>\n",
       "    </tr>\n",
       "    <tr>\n",
       "      <th>9</th>\n",
       "      <td>Mr. McKay is not the only one of the federal a...</td>\n",
       "    </tr>\n",
       "    <tr>\n",
       "      <th>10</th>\n",
       "      <td>Before David Iglesias of New Mexico was fired,...</td>\n",
       "    </tr>\n",
       "    <tr>\n",
       "      <th>11</th>\n",
       "      <td>The White House said that last October, just w...</td>\n",
       "    </tr>\n",
       "    <tr>\n",
       "      <th>12</th>\n",
       "      <td>There is no evidence of rampant voter fraud in...</td>\n",
       "    </tr>\n",
       "    <tr>\n",
       "      <th>13</th>\n",
       "      <td>Rather, Republicans under Mr. Bush have used s...</td>\n",
       "    </tr>\n",
       "    <tr>\n",
       "      <th>14</th>\n",
       "      <td>They have intimidated Native American voter re...</td>\n",
       "    </tr>\n",
       "    <tr>\n",
       "      <th>15</th>\n",
       "      <td>They have pushed through harsh voter ID bills ...</td>\n",
       "    </tr>\n",
       "    <tr>\n",
       "      <th>16</th>\n",
       "      <td>Florida passed a law placing such onerous cond...</td>\n",
       "    </tr>\n",
       "    <tr>\n",
       "      <th>17</th>\n",
       "      <td>The claims of vote fraud used to promote these...</td>\n",
       "    </tr>\n",
       "    <tr>\n",
       "      <th>18</th>\n",
       "      <td>Missouri Republicans have long charged that St...</td>\n",
       "    </tr>\n",
       "    <tr>\n",
       "      <th>19</th>\n",
       "      <td>But when The St. Louis Post-Dispatch checked, ...</td>\n",
       "    </tr>\n",
       "    <tr>\n",
       "      <th>20</th>\n",
       "      <td>The United States attorney purge appears to ha...</td>\n",
       "    </tr>\n",
       "    <tr>\n",
       "      <th>21</th>\n",
       "      <td>Carol Lam, the San Diego attorney, seems to ha...</td>\n",
       "    </tr>\n",
       "    <tr>\n",
       "      <th>22</th>\n",
       "      <td>These charges, like the accusation that Mr. Mc...</td>\n",
       "    </tr>\n",
       "    <tr>\n",
       "      <th>23</th>\n",
       "      <td>It does not justify their firing; it makes the...</td>\n",
       "    </tr>\n",
       "    <tr>\n",
       "      <th>24</th>\n",
       "      <td>NS</td>\n",
       "    </tr>\n",
       "  </tbody>\n",
       "</table>\n",
       "</div>"
      ],
      "text/plain": [
       "                                                 text\n",
       "0   In its fumbling attempts to explain the purge ...\n",
       "1   It is a phony argument; there is no evidence t...\n",
       "2   But more than that, it is a window on what may...\n",
       "3   In partisan Republican circles, the pursuit of...\n",
       "4   By resisting pressure to crack down on ''fraud...\n",
       "5   TD John McKay, one of the fired attorneys, say...\n",
       "6   Republicans were trying to overturn an electio...\n",
       "7   ''There was no evidence,'' he said, ''and I am...\n",
       "8   Later, when he interviewed with Harriet Miers,...\n",
       "9   Mr. McKay is not the only one of the federal a...\n",
       "10  Before David Iglesias of New Mexico was fired,...\n",
       "11  The White House said that last October, just w...\n",
       "12  There is no evidence of rampant voter fraud in...\n",
       "13  Rather, Republicans under Mr. Bush have used s...\n",
       "14  They have intimidated Native American voter re...\n",
       "15  They have pushed through harsh voter ID bills ...\n",
       "16  Florida passed a law placing such onerous cond...\n",
       "17  The claims of vote fraud used to promote these...\n",
       "18  Missouri Republicans have long charged that St...\n",
       "19  But when The St. Louis Post-Dispatch checked, ...\n",
       "20  The United States attorney purge appears to ha...\n",
       "21  Carol Lam, the San Diego attorney, seems to ha...\n",
       "22  These charges, like the accusation that Mr. Mc...\n",
       "23  It does not justify their firing; it makes the...\n",
       "24                                                 NS"
      ]
     },
     "execution_count": 7,
     "metadata": {},
     "output_type": "execute_result"
    }
   ],
   "source": [
    "pd.DataFrame(sentences, columns=['text'])"
   ]
  },
  {
   "cell_type": "markdown",
   "metadata": {},
   "source": [
    "## 2. Sampling (of training set and test set)"
   ]
  },
  {
   "cell_type": "markdown",
   "metadata": {},
   "source": [
    "Given the corpus divided into annotation units "
   ]
  },
  {
   "cell_type": "code",
   "execution_count": 8,
   "metadata": {
    "id": "ppZDpvxG0YV6"
   },
   "outputs": [],
   "source": [
    "corpus = pd.read_csv('./data/corpus.csv')"
   ]
  },
  {
   "cell_type": "markdown",
   "metadata": {},
   "source": [
    "Randomly sample 200 sentences as training set"
   ]
  },
  {
   "cell_type": "code",
   "execution_count": 9,
   "metadata": {},
   "outputs": [],
   "source": [
    "training_set = corpus.sample(200,random_state=42)"
   ]
  },
  {
   "cell_type": "markdown",
   "metadata": {},
   "source": [
    "Randomly sample 100 sentences as test set\n",
    "\n",
    "⚠️ **The training set and the test set must have no intersection**"
   ]
  },
  {
   "cell_type": "code",
   "execution_count": 10,
   "metadata": {
    "scrolled": true
   },
   "outputs": [],
   "source": [
    "test_set = corpus[corpus.text.apply(lambda x: x not in training_set.text)].sample(100, random_state=42)"
   ]
  },
  {
   "cell_type": "markdown",
   "metadata": {},
   "source": [
    "Export the training set and the test set for annotation"
   ]
  },
  {
   "cell_type": "code",
   "execution_count": 11,
   "metadata": {},
   "outputs": [],
   "source": [
    "training_set.to_csv('training_set.csv', index=False)"
   ]
  },
  {
   "cell_type": "code",
   "execution_count": 12,
   "metadata": {},
   "outputs": [],
   "source": [
    "test_set.to_csv('test_set.csv', index=False)"
   ]
  },
  {
   "cell_type": "markdown",
   "metadata": {},
   "source": [
    "## 3. Annotation"
   ]
  },
  {
   "cell_type": "markdown",
   "metadata": {},
   "source": [
    "Use your favorate annotation tool! (Excel is ok...)"
   ]
  },
  {
   "cell_type": "markdown",
   "metadata": {},
   "source": [
    "## 4. Training and evaluation"
   ]
  },
  {
   "cell_type": "markdown",
   "metadata": {},
   "source": [
    "Given the annotated training set and test set"
   ]
  },
  {
   "cell_type": "code",
   "execution_count": 13,
   "metadata": {},
   "outputs": [],
   "source": [
    "train = pd.read_csv('./data/annotated_training_set.csv')"
   ]
  },
  {
   "cell_type": "code",
   "execution_count": 14,
   "metadata": {},
   "outputs": [],
   "source": [
    "test = pd.read_csv('./data/annotated_test_set.csv')"
   ]
  },
  {
   "cell_type": "markdown",
   "metadata": {},
   "source": [
    "**Step 1:** Preprocess the training and test data with `bert.encode()`"
   ]
  },
  {
   "cell_type": "code",
   "execution_count": 15,
   "metadata": {
    "colab": {
     "base_uri": "https://localhost:8080/",
     "height": 81,
     "referenced_widgets": [
      "651dd36b3653410684ddfdd5ae987c6e",
      "1cf2231d73d9453aaee554ee9e54a1ab",
      "f4ec303b655441e1a8c7a647a1c76148",
      "4bc52980643b4804a22809ed1b61e030",
      "8e3df7e6d5014d17993dea1b0105df88",
      "4666d1570ecd4639b5511b1297a6d9a3",
      "55c3f9ef979843728a12a4205fa5a38d",
      "084f59deb4414f318f009716f1e280a2",
      "e33b5308a4284a6a912c2e8d72cf23c0",
      "f46424c47d3b4b2596675c77dac1dd9a",
      "d76fb1d36b624d53a118dff5fb95a494",
      "de3fe5b3bf514f1eb94f40d795dd4efc",
      "ea5873e53cea4b3a9e6e208914355edf",
      "f7494d98fa264b77a448e42de8ed5e67",
      "24c22dbfcd234a8cb2e9b4e5a87234b6",
      "56422d46bc6c46fc87b294850fc680f1",
      "da2a07ac09684e0c9aa66bbfc33100a3",
      "62578c5e66004175915c3bf9346efa1d",
      "c0def739804a4c04b3404b73eb1f37c6",
      "9ccc343e64e04bdbab5512dae7026cab",
      "ca4748f442f6428582a55959c6f7e93c",
      "f40de586ee044accaabd9d1c2e5e6523"
     ]
    },
    "id": "2drtmlL86ROn",
    "outputId": "069a3750-dedf-48c8-80c3-05bb21f41c84"
   },
   "outputs": [
    {
     "data": {
      "application/vnd.jupyter.widget-view+json": {
       "model_id": "59f80e0bb48a45a8bd5c3b177d6d29a8",
       "version_major": 2,
       "version_minor": 0
      },
      "text/plain": [
       "  0%|          | 0/2000 [00:00<?, ?it/s]"
      ]
     },
     "metadata": {},
     "output_type": "display_data"
    },
    {
     "data": {
      "application/vnd.jupyter.widget-view+json": {
       "model_id": "720eeb762fed49279cb746d697a8f29a",
       "version_major": 2,
       "version_minor": 0
      },
      "text/plain": [
       "  0%|          | 0/2000 [00:00<?, ?it/s]"
      ]
     },
     "metadata": {},
     "output_type": "display_data"
    }
   ],
   "source": [
    "train_loader = bert.encode(train.text.values, train.label.values)"
   ]
  },
  {
   "cell_type": "code",
   "execution_count": 16,
   "metadata": {
    "colab": {
     "base_uri": "https://localhost:8080/",
     "height": 81,
     "referenced_widgets": [
      "e80385043e5f4763a272979f7522e55a",
      "ce5fcca494fc4ddbaa30e0569aeb8b1b",
      "c2e8d6e54f0e496193cef7b5a6557b95",
      "668a07486fb6496b8e32d34c1606c9ff",
      "1a15573829864638b9f4433a32e340f1",
      "75cd3757d0c74be3a43c1a775b0d482e",
      "27612949a5d64b83907baa0e043e3e0d",
      "11d62ff1b9364b9880cb84f6035f8391",
      "960ecb584ff14a1e8014368b8604f911",
      "662af6c078644a09bf54b132c6db2960",
      "2e28ac5ee3834abba5842c1a70e5384f",
      "5ac65f4d100f40a48a33b5799657c20a",
      "1a7e9142127f42ffb18d5e6000496f41",
      "c6fb67142800433dadb12cfae440958a",
      "5b45cc448a16452db797b1080d5eb5bc",
      "88373c78125c4943b4d962f16f56bf61",
      "340e54dba6354298903c3d04816e1290",
      "796bd00c36564ab9a8ae081bc1eebcfc",
      "a0c586c19c23467ea6a5590c8e9dd525",
      "104ca82e8ffa4785b82c55a37585d7b8",
      "00d742c553a14df8a1b52d7982df4328",
      "b6e8e704af554ff18459be4d92a15332"
     ]
    },
    "id": "JrcArj1K6alG",
    "outputId": "0d0347b3-a75b-492b-8388-84869f9d2cfa"
   },
   "outputs": [
    {
     "data": {
      "application/vnd.jupyter.widget-view+json": {
       "model_id": "d31c0e52ead341838b943d701ee720ad",
       "version_major": 2,
       "version_minor": 0
      },
      "text/plain": [
       "  0%|          | 0/1000 [00:00<?, ?it/s]"
      ]
     },
     "metadata": {},
     "output_type": "display_data"
    },
    {
     "data": {
      "application/vnd.jupyter.widget-view+json": {
       "model_id": "587b6db2b4a84f69a5f31d5c5f6224ce",
       "version_major": 2,
       "version_minor": 0
      },
      "text/plain": [
       "  0%|          | 0/1000 [00:00<?, ?it/s]"
      ]
     },
     "metadata": {},
     "output_type": "display_data"
    }
   ],
   "source": [
    "test_loader = bert.encode(test.text.values, test.label.values)"
   ]
  },
  {
   "cell_type": "markdown",
   "metadata": {},
   "source": [
    "**Step 2:** Training a model, evaluating and saving it with `bert.run_training()`"
   ]
  },
  {
   "cell_type": "code",
   "execution_count": 17,
   "metadata": {
    "colab": {
     "base_uri": "https://localhost:8080/",
     "height": 970,
     "referenced_widgets": [
      "edce3d2b9f0f48f087f0ab71b6cf5f3c",
      "e3a577ebd37d41049e0bf947ed608794",
      "8ca5d274e4f9411caec504483630daf5",
      "ffe39ca07e34402f88c01ded7bdeb882",
      "85cd82d7dd55424eb7f29320f2c86d25",
      "ac24b965e2e54e098f7a79953584a50c",
      "b8f3504271b842b89cdcc10175951f6c",
      "693b762851ad450cbbcc9aad0bf45765",
      "59eb0aee6f2044d6931427822e892ec7",
      "1ad599de24b2431294d74a2cf5d5241d",
      "a10bedcb7faa4630b22524981af7c17e"
     ]
    },
    "id": "T9yLjNVBEWKt",
    "outputId": "0861496a-254a-4d4a-ed7d-af7a9b4fced1",
    "scrolled": true
   },
   "outputs": [
    {
     "data": {
      "application/vnd.jupyter.widget-view+json": {
       "model_id": "fcba17272a0b4637bcd149bcca021a13",
       "version_major": 2,
       "version_minor": 0
      },
      "text/plain": [
       "Downloading model.safetensors:   0%|          | 0.00/440M [00:00<?, ?B/s]"
      ]
     },
     "metadata": {},
     "output_type": "display_data"
    },
    {
     "name": "stderr",
     "output_type": "stream",
     "text": [
      "Some weights of the model checkpoint at bert-base-uncased were not used when initializing BertForSequenceClassification: ['cls.seq_relationship.bias', 'cls.predictions.transform.dense.weight', 'cls.predictions.transform.LayerNorm.bias', 'cls.predictions.bias', 'cls.seq_relationship.weight', 'cls.predictions.transform.dense.bias', 'cls.predictions.transform.LayerNorm.weight']\n",
      "- This IS expected if you are initializing BertForSequenceClassification from the checkpoint of a model trained on another task or with another architecture (e.g. initializing a BertForSequenceClassification model from a BertForPreTraining model).\n",
      "- This IS NOT expected if you are initializing BertForSequenceClassification from the checkpoint of a model that you expect to be exactly identical (initializing a BertForSequenceClassification model from a BertForSequenceClassification model).\n",
      "Some weights of BertForSequenceClassification were not initialized from the model checkpoint at bert-base-uncased and are newly initialized: ['classifier.weight', 'classifier.bias']\n",
      "You should probably TRAIN this model on a down-stream task to be able to use it for predictions and inference.\n",
      "/root/llm/lib/python3.11/site-packages/transformers/optimization.py:411: FutureWarning: This implementation of AdamW is deprecated and will be removed in a future version. Use the PyTorch implementation torch.optim.AdamW instead, or set `no_deprecation_warning=True` to disable this warning\n",
      "  warnings.warn(\n"
     ]
    },
    {
     "name": "stdout",
     "output_type": "stream",
     "text": [
      "\n",
      "======== Epoch 1 / 3 ========\n",
      "Training...\n",
      "  Batch    40  of     63.    Elapsed: 0:00:26.\n",
      "\n",
      "  Average training loss: 0.42\n",
      "  Training took: 0:00:40\n",
      "\n",
      "Running Validation...\n",
      "\n",
      "  Average test loss: 0.16\n",
      "  Validation took: 0:00:08\n",
      "              precision    recall  f1-score   support\n",
      "\n",
      "           0       0.99      0.93      0.96       900\n",
      "           1       0.60      0.91      0.72       100\n",
      "\n",
      "    accuracy                           0.93      1000\n",
      "   macro avg       0.79      0.92      0.84      1000\n",
      "weighted avg       0.95      0.93      0.94      1000\n",
      "\n",
      "\n",
      "======== Epoch 2 / 3 ========\n",
      "Training...\n",
      "  Batch    40  of     63.    Elapsed: 0:00:25.\n",
      "\n",
      "  Average training loss: 0.15\n",
      "  Training took: 0:00:39\n",
      "\n",
      "Running Validation...\n",
      "\n",
      "  Average test loss: 0.13\n",
      "  Validation took: 0:00:08\n",
      "              precision    recall  f1-score   support\n",
      "\n",
      "           0       0.99      0.96      0.98       900\n",
      "           1       0.74      0.93      0.83       100\n",
      "\n",
      "    accuracy                           0.96      1000\n",
      "   macro avg       0.87      0.95      0.90      1000\n",
      "weighted avg       0.97      0.96      0.96      1000\n",
      "\n",
      "\n",
      "======== Epoch 3 / 3 ========\n",
      "Training...\n",
      "  Batch    40  of     63.    Elapsed: 0:00:25.\n",
      "\n",
      "  Average training loss: 0.06\n",
      "  Training took: 0:00:39\n",
      "\n",
      "Running Validation...\n",
      "\n",
      "  Average test loss: 0.14\n",
      "  Validation took: 0:00:08\n",
      "              precision    recall  f1-score   support\n",
      "\n",
      "           0       0.99      0.96      0.98       900\n",
      "           1       0.71      0.95      0.81       100\n",
      "\n",
      "    accuracy                           0.96      1000\n",
      "   macro avg       0.85      0.95      0.89      1000\n",
      "weighted avg       0.97      0.96      0.96      1000\n",
      "\n",
      "\n",
      "Training complete!\n"
     ]
    }
   ],
   "source": [
    "score = bert.run_training(train_loader,          #encoded training set\n",
    "                          test_loader,           #encoded test set\n",
    "                          n_epochs=3,            #number of epochs\n",
    "                          lr=5e-5,               #learning rate\n",
    "                          random_state=42,       #random state (for replicability)\n",
    "                          save_model_as='off')   #name of the saved model"
   ]
  },
  {
   "cell_type": "code",
   "execution_count": 18,
   "metadata": {
    "scrolled": true
   },
   "outputs": [
    {
     "data": {
      "text/plain": [
       "(array([0.99422633, 0.70895522]),\n",
       " array([0.95666667, 0.95      ]),\n",
       " array([0.97508494, 0.81196581]),\n",
       " array([900, 100]))"
      ]
     },
     "execution_count": 18,
     "metadata": {},
     "output_type": "execute_result"
    }
   ],
   "source": [
    "score"
   ]
  },
  {
   "cell_type": "markdown",
   "metadata": {
    "id": "dwyGTIiFEZnH"
   },
   "source": [
    "# 4. Prediction"
   ]
  },
  {
   "cell_type": "code",
   "execution_count": 19,
   "metadata": {
    "scrolled": true
   },
   "outputs": [
    {
     "data": {
      "text/html": [
       "<div>\n",
       "<style scoped>\n",
       "    .dataframe tbody tr th:only-of-type {\n",
       "        vertical-align: middle;\n",
       "    }\n",
       "\n",
       "    .dataframe tbody tr th {\n",
       "        vertical-align: top;\n",
       "    }\n",
       "\n",
       "    .dataframe thead th {\n",
       "        text-align: right;\n",
       "    }\n",
       "</style>\n",
       "<table border=\"1\" class=\"dataframe\">\n",
       "  <thead>\n",
       "    <tr style=\"text-align: right;\">\n",
       "      <th></th>\n",
       "      <th>text</th>\n",
       "      <th>year</th>\n",
       "    </tr>\n",
       "  </thead>\n",
       "  <tbody>\n",
       "    <tr>\n",
       "      <th>0</th>\n",
       "      <td>In North Carolina, Mr. McCrory won largely on ...</td>\n",
       "      <td>2012</td>\n",
       "    </tr>\n",
       "    <tr>\n",
       "      <th>1</th>\n",
       "      <td>Instead, the focus on Mr. Romney's personal fo...</td>\n",
       "      <td>2012</td>\n",
       "    </tr>\n",
       "    <tr>\n",
       "      <th>2</th>\n",
       "      <td>As investors have poured money into the skyroc...</td>\n",
       "      <td>2015</td>\n",
       "    </tr>\n",
       "    <tr>\n",
       "      <th>3</th>\n",
       "      <td>In a November 1998 plea agreement, Ronald Latt...</td>\n",
       "      <td>2001</td>\n",
       "    </tr>\n",
       "    <tr>\n",
       "      <th>4</th>\n",
       "      <td>\"While we preserved, maintained and released a...</td>\n",
       "      <td>2001</td>\n",
       "    </tr>\n",
       "    <tr>\n",
       "      <th>...</th>\n",
       "      <td>...</td>\n",
       "      <td>...</td>\n",
       "    </tr>\n",
       "    <tr>\n",
       "      <th>4294</th>\n",
       "      <td>A veteran researcher said the staff had been t...</td>\n",
       "      <td>2006</td>\n",
       "    </tr>\n",
       "    <tr>\n",
       "      <th>4295</th>\n",
       "      <td>Domestic yields rose only 1.9 percent.</td>\n",
       "      <td>2006</td>\n",
       "    </tr>\n",
       "    <tr>\n",
       "      <th>4296</th>\n",
       "      <td>The federal government, including the Centers ...</td>\n",
       "      <td>2020</td>\n",
       "    </tr>\n",
       "    <tr>\n",
       "      <th>4297</th>\n",
       "      <td>Noting the e-mails, phone records and testimon...</td>\n",
       "      <td>2011</td>\n",
       "    </tr>\n",
       "    <tr>\n",
       "      <th>4298</th>\n",
       "      <td>On July 2, 2002, according to the appeals pane...</td>\n",
       "      <td>2011</td>\n",
       "    </tr>\n",
       "  </tbody>\n",
       "</table>\n",
       "<p>4299 rows × 2 columns</p>\n",
       "</div>"
      ],
      "text/plain": [
       "                                                   text  year\n",
       "0     In North Carolina, Mr. McCrory won largely on ...  2012\n",
       "1     Instead, the focus on Mr. Romney's personal fo...  2012\n",
       "2     As investors have poured money into the skyroc...  2015\n",
       "3     In a November 1998 plea agreement, Ronald Latt...  2001\n",
       "4     \"While we preserved, maintained and released a...  2001\n",
       "...                                                 ...   ...\n",
       "4294  A veteran researcher said the staff had been t...  2006\n",
       "4295             Domestic yields rose only 1.9 percent.  2006\n",
       "4296  The federal government, including the Centers ...  2020\n",
       "4297  Noting the e-mails, phone records and testimon...  2011\n",
       "4298  On July 2, 2002, according to the appeals pane...  2011\n",
       "\n",
       "[4299 rows x 2 columns]"
      ]
     },
     "execution_count": 19,
     "metadata": {},
     "output_type": "execute_result"
    }
   ],
   "source": [
    "corpus"
   ]
  },
  {
   "cell_type": "markdown",
   "metadata": {},
   "source": [
    "**Step 1:** Preprocess the prediction data with `bert.encode()`"
   ]
  },
  {
   "cell_type": "code",
   "execution_count": 20,
   "metadata": {},
   "outputs": [
    {
     "data": {
      "application/vnd.jupyter.widget-view+json": {
       "model_id": "4c90a1f2e2e84252b0eb93edd6a6652b",
       "version_major": 2,
       "version_minor": 0
      },
      "text/plain": [
       "  0%|          | 0/4299 [00:00<?, ?it/s]"
      ]
     },
     "metadata": {},
     "output_type": "display_data"
    },
    {
     "data": {
      "application/vnd.jupyter.widget-view+json": {
       "model_id": "6551bded8d5940fca05455918a9967ca",
       "version_major": 2,
       "version_minor": 0
      },
      "text/plain": [
       "  0%|          | 0/4299 [00:00<?, ?it/s]"
      ]
     },
     "metadata": {},
     "output_type": "display_data"
    }
   ],
   "source": [
    "pred_dataloader = bert.encode(corpus.text)"
   ]
  },
  {
   "cell_type": "markdown",
   "metadata": {},
   "source": [
    "**Step 2:** Prediction with the saved model using `bert.predict_with_model()`"
   ]
  },
  {
   "cell_type": "code",
   "execution_count": 21,
   "metadata": {},
   "outputs": [
    {
     "data": {
      "application/vnd.jupyter.widget-view+json": {
       "model_id": "2db2f5aa0a9b4618878123e507e347aa",
       "version_major": 2,
       "version_minor": 0
      },
      "text/plain": [
       "  0%|          | 0/135 [00:00<?, ?it/s]"
      ]
     },
     "metadata": {},
     "output_type": "display_data"
    }
   ],
   "source": [
    "pred = bert.predict_with_model(pred_dataloader, model_path='./models/off')"
   ]
  },
  {
   "cell_type": "markdown",
   "metadata": {},
   "source": [
    "The function return a two-dimensional array: for each sentence, probability that it belongs to category 0 and probability that it belongs to category 1. "
   ]
  },
  {
   "cell_type": "code",
   "execution_count": 22,
   "metadata": {},
   "outputs": [
    {
     "data": {
      "text/plain": [
       "array([[0.99820566, 0.00179435],\n",
       "       [0.9968569 , 0.00314302],\n",
       "       [0.01327625, 0.9867237 ],\n",
       "       ...,\n",
       "       [0.9977915 , 0.00220845],\n",
       "       [0.9951126 , 0.0048874 ],\n",
       "       [0.9973519 , 0.00264812]], dtype=float32)"
      ]
     },
     "execution_count": 22,
     "metadata": {},
     "output_type": "execute_result"
    }
   ],
   "source": [
    "pred"
   ]
  },
  {
   "cell_type": "markdown",
   "metadata": {},
   "source": [
    "Store the predicted labels and probabilities into the dataframe"
   ]
  },
  {
   "cell_type": "code",
   "execution_count": 23,
   "metadata": {},
   "outputs": [],
   "source": [
    "corpus['pred_label'] = np.argmax(pred, axis=1)"
   ]
  },
  {
   "cell_type": "code",
   "execution_count": 24,
   "metadata": {},
   "outputs": [],
   "source": [
    "corpus['pred_proba'] = np.max(pred, axis=1)"
   ]
  },
  {
   "cell_type": "markdown",
   "metadata": {},
   "source": [
    "Inspect the predictions"
   ]
  },
  {
   "cell_type": "code",
   "execution_count": 25,
   "metadata": {
    "scrolled": true
   },
   "outputs": [
    {
     "data": {
      "text/html": [
       "<div>\n",
       "<style scoped>\n",
       "    .dataframe tbody tr th:only-of-type {\n",
       "        vertical-align: middle;\n",
       "    }\n",
       "\n",
       "    .dataframe tbody tr th {\n",
       "        vertical-align: top;\n",
       "    }\n",
       "\n",
       "    .dataframe thead th {\n",
       "        text-align: right;\n",
       "    }\n",
       "</style>\n",
       "<table border=\"1\" class=\"dataframe\">\n",
       "  <thead>\n",
       "    <tr style=\"text-align: right;\">\n",
       "      <th></th>\n",
       "      <th>text</th>\n",
       "      <th>year</th>\n",
       "      <th>pred_label</th>\n",
       "      <th>pred_proba</th>\n",
       "    </tr>\n",
       "  </thead>\n",
       "  <tbody>\n",
       "    <tr>\n",
       "      <th>0</th>\n",
       "      <td>In North Carolina, Mr. McCrory won largely on ...</td>\n",
       "      <td>2012</td>\n",
       "      <td>0</td>\n",
       "      <td>0.998206</td>\n",
       "    </tr>\n",
       "    <tr>\n",
       "      <th>1</th>\n",
       "      <td>Instead, the focus on Mr. Romney's personal fo...</td>\n",
       "      <td>2012</td>\n",
       "      <td>0</td>\n",
       "      <td>0.996857</td>\n",
       "    </tr>\n",
       "    <tr>\n",
       "      <th>2</th>\n",
       "      <td>As investors have poured money into the skyroc...</td>\n",
       "      <td>2015</td>\n",
       "      <td>1</td>\n",
       "      <td>0.986724</td>\n",
       "    </tr>\n",
       "    <tr>\n",
       "      <th>3</th>\n",
       "      <td>In a November 1998 plea agreement, Ronald Latt...</td>\n",
       "      <td>2001</td>\n",
       "      <td>0</td>\n",
       "      <td>0.997723</td>\n",
       "    </tr>\n",
       "    <tr>\n",
       "      <th>4</th>\n",
       "      <td>\"While we preserved, maintained and released a...</td>\n",
       "      <td>2001</td>\n",
       "      <td>0</td>\n",
       "      <td>0.997600</td>\n",
       "    </tr>\n",
       "    <tr>\n",
       "      <th>...</th>\n",
       "      <td>...</td>\n",
       "      <td>...</td>\n",
       "      <td>...</td>\n",
       "      <td>...</td>\n",
       "    </tr>\n",
       "    <tr>\n",
       "      <th>4294</th>\n",
       "      <td>A veteran researcher said the staff had been t...</td>\n",
       "      <td>2006</td>\n",
       "      <td>1</td>\n",
       "      <td>0.985452</td>\n",
       "    </tr>\n",
       "    <tr>\n",
       "      <th>4295</th>\n",
       "      <td>Domestic yields rose only 1.9 percent.</td>\n",
       "      <td>2006</td>\n",
       "      <td>0</td>\n",
       "      <td>0.997453</td>\n",
       "    </tr>\n",
       "    <tr>\n",
       "      <th>4296</th>\n",
       "      <td>The federal government, including the Centers ...</td>\n",
       "      <td>2020</td>\n",
       "      <td>0</td>\n",
       "      <td>0.997792</td>\n",
       "    </tr>\n",
       "    <tr>\n",
       "      <th>4297</th>\n",
       "      <td>Noting the e-mails, phone records and testimon...</td>\n",
       "      <td>2011</td>\n",
       "      <td>0</td>\n",
       "      <td>0.995113</td>\n",
       "    </tr>\n",
       "    <tr>\n",
       "      <th>4298</th>\n",
       "      <td>On July 2, 2002, according to the appeals pane...</td>\n",
       "      <td>2011</td>\n",
       "      <td>0</td>\n",
       "      <td>0.997352</td>\n",
       "    </tr>\n",
       "  </tbody>\n",
       "</table>\n",
       "<p>4299 rows × 4 columns</p>\n",
       "</div>"
      ],
      "text/plain": [
       "                                                   text  year  pred_label  \\\n",
       "0     In North Carolina, Mr. McCrory won largely on ...  2012           0   \n",
       "1     Instead, the focus on Mr. Romney's personal fo...  2012           0   \n",
       "2     As investors have poured money into the skyroc...  2015           1   \n",
       "3     In a November 1998 plea agreement, Ronald Latt...  2001           0   \n",
       "4     \"While we preserved, maintained and released a...  2001           0   \n",
       "...                                                 ...   ...         ...   \n",
       "4294  A veteran researcher said the staff had been t...  2006           1   \n",
       "4295             Domestic yields rose only 1.9 percent.  2006           0   \n",
       "4296  The federal government, including the Centers ...  2020           0   \n",
       "4297  Noting the e-mails, phone records and testimon...  2011           0   \n",
       "4298  On July 2, 2002, according to the appeals pane...  2011           0   \n",
       "\n",
       "      pred_proba  \n",
       "0       0.998206  \n",
       "1       0.996857  \n",
       "2       0.986724  \n",
       "3       0.997723  \n",
       "4       0.997600  \n",
       "...          ...  \n",
       "4294    0.985452  \n",
       "4295    0.997453  \n",
       "4296    0.997792  \n",
       "4297    0.995113  \n",
       "4298    0.997352  \n",
       "\n",
       "[4299 rows x 4 columns]"
      ]
     },
     "execution_count": 25,
     "metadata": {},
     "output_type": "execute_result"
    }
   ],
   "source": [
    "corpus"
   ]
  },
  {
   "cell_type": "markdown",
   "metadata": {},
   "source": [
    "Then you can process any statistical analysis on the entire corpus..."
   ]
  },
  {
   "cell_type": "code",
   "execution_count": 26,
   "metadata": {
    "scrolled": true
   },
   "outputs": [
    {
     "data": {
      "text/plain": [
       "year\n",
       "2000    0.357664\n",
       "2001    0.458937\n",
       "2002    0.446927\n",
       "2003    0.490385\n",
       "2004    0.364780\n",
       "2005    0.258503\n",
       "2006    0.361963\n",
       "2007    0.373737\n",
       "2008    0.368421\n",
       "2009    0.349112\n",
       "2010    0.342391\n",
       "2011    0.337963\n",
       "2012    0.359091\n",
       "2013    0.372093\n",
       "2014    0.272727\n",
       "2015    0.361905\n",
       "2016    0.327273\n",
       "2017    0.316964\n",
       "2018    0.337079\n",
       "2019    0.341727\n",
       "2020    0.342020\n",
       "dtype: float64"
      ]
     },
     "execution_count": 26,
     "metadata": {},
     "output_type": "execute_result"
    }
   ],
   "source": [
    "corpus.groupby('year').sum()['pred_label']/corpus.year.value_counts()"
   ]
  },
  {
   "cell_type": "markdown",
   "metadata": {},
   "source": [
    "**To recapitulate:**\n",
    "\n",
    "3 main functions:\n",
    "\n",
    "- `bert.encode(texts, labels)`to preprocess the data. \n",
    "   (only `bert.encode(texts)` for prediction data)\n",
    "   \n",
    "   \n",
    "- `bert.run_training(train_loader, test_loader, lr, n_epochs, random_state, save_model_as)` \n",
    "\n",
    "    to train, validate and save the model\n",
    "\n",
    "\n",
    "- `bert.predict_with_model(pred_loder, model_path)`to make predictions"
   ]
  },
  {
   "cell_type": "markdown",
   "metadata": {},
   "source": [
    "## Exercice: Clickbalt detection"
   ]
  },
  {
   "cell_type": "markdown",
   "metadata": {},
   "source": [
    "Use the following training data and test data to build a model which automatically classifies whether a headline is a click balt. "
   ]
  },
  {
   "cell_type": "code",
   "execution_count": 28,
   "metadata": {},
   "outputs": [],
   "source": [
    "cb_train = pd.read_csv('../AugmentedSocialScientist/datasets/english/clickbait_train.csv')\n",
    "cb_test = pd.read_csv('../AugmentedSocialScientist/datasets/english/clickbait_test.csv')"
   ]
  },
  {
   "cell_type": "markdown",
   "metadata": {},
   "source": [
    "Then use the model to automatically classify the following headlines: "
   ]
  },
  {
   "cell_type": "code",
   "execution_count": 29,
   "metadata": {
    "scrolled": true
   },
   "outputs": [
    {
     "data": {
      "text/html": [
       "<div>\n",
       "<style scoped>\n",
       "    .dataframe tbody tr th:only-of-type {\n",
       "        vertical-align: middle;\n",
       "    }\n",
       "\n",
       "    .dataframe tbody tr th {\n",
       "        vertical-align: top;\n",
       "    }\n",
       "\n",
       "    .dataframe thead th {\n",
       "        text-align: right;\n",
       "    }\n",
       "</style>\n",
       "<table border=\"1\" class=\"dataframe\">\n",
       "  <thead>\n",
       "    <tr style=\"text-align: right;\">\n",
       "      <th></th>\n",
       "      <th>headline</th>\n",
       "    </tr>\n",
       "  </thead>\n",
       "  <tbody>\n",
       "    <tr>\n",
       "      <th>0</th>\n",
       "      <td>34 Musical Baby Names That'll Make You Want To...</td>\n",
       "    </tr>\n",
       "    <tr>\n",
       "      <th>1</th>\n",
       "      <td>Senate Approves Tight Regulation Over Cigarettes</td>\n",
       "    </tr>\n",
       "    <tr>\n",
       "      <th>2</th>\n",
       "      <td>Scotland predicted to have worst recession sin...</td>\n",
       "    </tr>\n",
       "    <tr>\n",
       "      <th>3</th>\n",
       "      <td>17 Times Chloe The Mini Frenchie Won Instagram...</td>\n",
       "    </tr>\n",
       "    <tr>\n",
       "      <th>4</th>\n",
       "      <td>Markets rally as world's central banks infuse ...</td>\n",
       "    </tr>\n",
       "    <tr>\n",
       "      <th>5</th>\n",
       "      <td>17 Photos Everyone Who Grew Up Eating Pan Dulc...</td>\n",
       "    </tr>\n",
       "    <tr>\n",
       "      <th>6</th>\n",
       "      <td>Zimbabwean opposition leader rejects calls for...</td>\n",
       "    </tr>\n",
       "    <tr>\n",
       "      <th>7</th>\n",
       "      <td>Chief of Swiss Re Steps Down</td>\n",
       "    </tr>\n",
       "    <tr>\n",
       "      <th>8</th>\n",
       "      <td>This Guy's Epic Story Explains Why Every Girl ...</td>\n",
       "    </tr>\n",
       "    <tr>\n",
       "      <th>9</th>\n",
       "      <td>There's A New Trailer For The \"Sherlock\" Chris...</td>\n",
       "    </tr>\n",
       "    <tr>\n",
       "      <th>10</th>\n",
       "      <td>Six dead in arson attack in Bridgetown, Barbados</td>\n",
       "    </tr>\n",
       "    <tr>\n",
       "      <th>11</th>\n",
       "      <td>22 Super Annoying Things Every Woman Has To De...</td>\n",
       "    </tr>\n",
       "    <tr>\n",
       "      <th>12</th>\n",
       "      <td>English Cricket Teams Get Uneven Treatment Eve...</td>\n",
       "    </tr>\n",
       "    <tr>\n",
       "      <th>13</th>\n",
       "      <td>Mayor Aims to Add Spark to Flagging Sex Lives</td>\n",
       "    </tr>\n",
       "    <tr>\n",
       "      <th>14</th>\n",
       "      <td>22 Hilarious Tweets About Being Exhausted All ...</td>\n",
       "    </tr>\n",
       "    <tr>\n",
       "      <th>15</th>\n",
       "      <td>Nations begin to offer aid to regions afflicte...</td>\n",
       "    </tr>\n",
       "    <tr>\n",
       "      <th>16</th>\n",
       "      <td>U.S. Captain Hears Pleas for Afghan Detainee</td>\n",
       "    </tr>\n",
       "    <tr>\n",
       "      <th>17</th>\n",
       "      <td>Daw Aung San Suu Kyi, Burmese Pro-Democracy Le...</td>\n",
       "    </tr>\n",
       "    <tr>\n",
       "      <th>18</th>\n",
       "      <td>Stronger Euro Threatens Weak Economy in Europe</td>\n",
       "    </tr>\n",
       "    <tr>\n",
       "      <th>19</th>\n",
       "      <td>UK's BAA forced to sell three airports</td>\n",
       "    </tr>\n",
       "    <tr>\n",
       "      <th>20</th>\n",
       "      <td>We Know Who You Plan On Spending Valentine's D...</td>\n",
       "    </tr>\n",
       "    <tr>\n",
       "      <th>21</th>\n",
       "      <td>Suicide bomber attacks Indian Embassy in Kabul...</td>\n",
       "    </tr>\n",
       "    <tr>\n",
       "      <th>22</th>\n",
       "      <td>31 Gifts For People Who Freakin' Love Fruit</td>\n",
       "    </tr>\n",
       "    <tr>\n",
       "      <th>23</th>\n",
       "      <td>21 Times Chris Pratt Was Too Good For This World</td>\n",
       "    </tr>\n",
       "    <tr>\n",
       "      <th>24</th>\n",
       "      <td>24 Times Kris Jenner Was Shut Down By Her Own ...</td>\n",
       "    </tr>\n",
       "    <tr>\n",
       "      <th>25</th>\n",
       "      <td>French teacher returns home after being held i...</td>\n",
       "    </tr>\n",
       "    <tr>\n",
       "      <th>26</th>\n",
       "      <td>30 Face Swaps That Will Make You Really Uncomf...</td>\n",
       "    </tr>\n",
       "    <tr>\n",
       "      <th>27</th>\n",
       "      <td>10 Mundane Things About Fall That Are Actually...</td>\n",
       "    </tr>\n",
       "    <tr>\n",
       "      <th>28</th>\n",
       "      <td>22 Genius Running Hacks For When It's Cold AF ...</td>\n",
       "    </tr>\n",
       "    <tr>\n",
       "      <th>29</th>\n",
       "      <td>21 Truths For People Who Like Animals More Tha...</td>\n",
       "    </tr>\n",
       "    <tr>\n",
       "      <th>30</th>\n",
       "      <td>UK study reveals smoking could shorten men's l...</td>\n",
       "    </tr>\n",
       "    <tr>\n",
       "      <th>31</th>\n",
       "      <td>Rumours suggest Alonso and Schumacher could mo...</td>\n",
       "    </tr>\n",
       "    <tr>\n",
       "      <th>32</th>\n",
       "      <td>18 Cake GIFs That'll Make You Moist</td>\n",
       "    </tr>\n",
       "    <tr>\n",
       "      <th>33</th>\n",
       "      <td>We Know Your Favorite Male Celebrity Based On ...</td>\n",
       "    </tr>\n",
       "    <tr>\n",
       "      <th>34</th>\n",
       "      <td>Nonprofits Seek Lobby Rule Exceptions</td>\n",
       "    </tr>\n",
       "    <tr>\n",
       "      <th>35</th>\n",
       "      <td>13 Celebs Who Totally Got Dressed Up For \"Star...</td>\n",
       "    </tr>\n",
       "    <tr>\n",
       "      <th>36</th>\n",
       "      <td>16 Things Dudes Need To Stop Wearing In 2016</td>\n",
       "    </tr>\n",
       "    <tr>\n",
       "      <th>37</th>\n",
       "      <td>Deere Profit Fell 38% in 2nd Quarter</td>\n",
       "    </tr>\n",
       "    <tr>\n",
       "      <th>38</th>\n",
       "      <td>Major League Soccer 2008: Week 7 roundup</td>\n",
       "    </tr>\n",
       "    <tr>\n",
       "      <th>39</th>\n",
       "      <td>22 Insanely Adorable DIY Decorations For Holid...</td>\n",
       "    </tr>\n",
       "    <tr>\n",
       "      <th>40</th>\n",
       "      <td>Delicacy of the Wild West Lives on for Those S...</td>\n",
       "    </tr>\n",
       "    <tr>\n",
       "      <th>41</th>\n",
       "      <td>17 Reasons Why Jos. Louis Are The Ultimate Cul...</td>\n",
       "    </tr>\n",
       "    <tr>\n",
       "      <th>42</th>\n",
       "      <td>18 Hilarious Tweets About Going Vegan</td>\n",
       "    </tr>\n",
       "    <tr>\n",
       "      <th>43</th>\n",
       "      <td>27 Kids Who Totally Nailed This Halloween Thing</td>\n",
       "    </tr>\n",
       "    <tr>\n",
       "      <th>44</th>\n",
       "      <td>Mathematics summer school in Turkey threatened...</td>\n",
       "    </tr>\n",
       "    <tr>\n",
       "      <th>45</th>\n",
       "      <td>These Star Wars Carbonite \"Pop-Tarts\" Are Too ...</td>\n",
       "    </tr>\n",
       "    <tr>\n",
       "      <th>46</th>\n",
       "      <td>What \"No Name\" Product Are You Actually</td>\n",
       "    </tr>\n",
       "    <tr>\n",
       "      <th>47</th>\n",
       "      <td>Search continues for nine missing after midair...</td>\n",
       "    </tr>\n",
       "    <tr>\n",
       "      <th>48</th>\n",
       "      <td>25 Things You'll Only Get If You're Obsessed W...</td>\n",
       "    </tr>\n",
       "    <tr>\n",
       "      <th>49</th>\n",
       "      <td>American TV personality and \"Tonight Show\" sid...</td>\n",
       "    </tr>\n",
       "  </tbody>\n",
       "</table>\n",
       "</div>"
      ],
      "text/plain": [
       "                                             headline\n",
       "0   34 Musical Baby Names That'll Make You Want To...\n",
       "1    Senate Approves Tight Regulation Over Cigarettes\n",
       "2   Scotland predicted to have worst recession sin...\n",
       "3   17 Times Chloe The Mini Frenchie Won Instagram...\n",
       "4   Markets rally as world's central banks infuse ...\n",
       "5   17 Photos Everyone Who Grew Up Eating Pan Dulc...\n",
       "6   Zimbabwean opposition leader rejects calls for...\n",
       "7                        Chief of Swiss Re Steps Down\n",
       "8   This Guy's Epic Story Explains Why Every Girl ...\n",
       "9   There's A New Trailer For The \"Sherlock\" Chris...\n",
       "10   Six dead in arson attack in Bridgetown, Barbados\n",
       "11  22 Super Annoying Things Every Woman Has To De...\n",
       "12  English Cricket Teams Get Uneven Treatment Eve...\n",
       "13      Mayor Aims to Add Spark to Flagging Sex Lives\n",
       "14  22 Hilarious Tweets About Being Exhausted All ...\n",
       "15  Nations begin to offer aid to regions afflicte...\n",
       "16       U.S. Captain Hears Pleas for Afghan Detainee\n",
       "17  Daw Aung San Suu Kyi, Burmese Pro-Democracy Le...\n",
       "18     Stronger Euro Threatens Weak Economy in Europe\n",
       "19             UK's BAA forced to sell three airports\n",
       "20  We Know Who You Plan On Spending Valentine's D...\n",
       "21  Suicide bomber attacks Indian Embassy in Kabul...\n",
       "22        31 Gifts For People Who Freakin' Love Fruit\n",
       "23   21 Times Chris Pratt Was Too Good For This World\n",
       "24  24 Times Kris Jenner Was Shut Down By Her Own ...\n",
       "25  French teacher returns home after being held i...\n",
       "26  30 Face Swaps That Will Make You Really Uncomf...\n",
       "27  10 Mundane Things About Fall That Are Actually...\n",
       "28  22 Genius Running Hacks For When It's Cold AF ...\n",
       "29  21 Truths For People Who Like Animals More Tha...\n",
       "30  UK study reveals smoking could shorten men's l...\n",
       "31  Rumours suggest Alonso and Schumacher could mo...\n",
       "32                18 Cake GIFs That'll Make You Moist\n",
       "33  We Know Your Favorite Male Celebrity Based On ...\n",
       "34              Nonprofits Seek Lobby Rule Exceptions\n",
       "35  13 Celebs Who Totally Got Dressed Up For \"Star...\n",
       "36       16 Things Dudes Need To Stop Wearing In 2016\n",
       "37               Deere Profit Fell 38% in 2nd Quarter\n",
       "38           Major League Soccer 2008: Week 7 roundup\n",
       "39  22 Insanely Adorable DIY Decorations For Holid...\n",
       "40  Delicacy of the Wild West Lives on for Those S...\n",
       "41  17 Reasons Why Jos. Louis Are The Ultimate Cul...\n",
       "42              18 Hilarious Tweets About Going Vegan\n",
       "43    27 Kids Who Totally Nailed This Halloween Thing\n",
       "44  Mathematics summer school in Turkey threatened...\n",
       "45  These Star Wars Carbonite \"Pop-Tarts\" Are Too ...\n",
       "46            What \"No Name\" Product Are You Actually\n",
       "47  Search continues for nine missing after midair...\n",
       "48  25 Things You'll Only Get If You're Obsessed W...\n",
       "49  American TV personality and \"Tonight Show\" sid..."
      ]
     },
     "execution_count": 29,
     "metadata": {},
     "output_type": "execute_result"
    }
   ],
   "source": [
    "cb_pred = pd.read_csv('../AugmentedSocialScientist/datasets/english/clickbait_pred.csv')\n",
    "cb_pred"
   ]
  },
  {
   "cell_type": "markdown",
   "metadata": {},
   "source": [
    "## Solution"
   ]
  },
  {
   "cell_type": "markdown",
   "metadata": {},
   "source": [
    "Training"
   ]
  },
  {
   "cell_type": "code",
   "execution_count": 30,
   "metadata": {},
   "outputs": [
    {
     "data": {
      "application/vnd.jupyter.widget-view+json": {
       "model_id": "3cb59450db7045a9825263b131e22fcc",
       "version_major": 2,
       "version_minor": 0
      },
      "text/plain": [
       "  0%|          | 0/500 [00:00<?, ?it/s]"
      ]
     },
     "metadata": {},
     "output_type": "display_data"
    },
    {
     "data": {
      "application/vnd.jupyter.widget-view+json": {
       "model_id": "680e67f6e6e2448089f04bf0111543ac",
       "version_major": 2,
       "version_minor": 0
      },
      "text/plain": [
       "  0%|          | 0/500 [00:00<?, ?it/s]"
      ]
     },
     "metadata": {},
     "output_type": "display_data"
    }
   ],
   "source": [
    "train_loader = bert.encode(cb_train.headline.values, cb_train.is_clickbait.values)"
   ]
  },
  {
   "cell_type": "code",
   "execution_count": 31,
   "metadata": {
    "scrolled": true
   },
   "outputs": [
    {
     "data": {
      "application/vnd.jupyter.widget-view+json": {
       "model_id": "6c3bf2fc4a5e482eae4c000352218cda",
       "version_major": 2,
       "version_minor": 0
      },
      "text/plain": [
       "  0%|          | 0/200 [00:00<?, ?it/s]"
      ]
     },
     "metadata": {},
     "output_type": "display_data"
    },
    {
     "data": {
      "application/vnd.jupyter.widget-view+json": {
       "model_id": "fe7fd9c069a347b0a5551f80e40ec445",
       "version_major": 2,
       "version_minor": 0
      },
      "text/plain": [
       "  0%|          | 0/200 [00:00<?, ?it/s]"
      ]
     },
     "metadata": {},
     "output_type": "display_data"
    }
   ],
   "source": [
    "test_loader = bert.encode(cb_test.headline.values, cb_test.is_clickbait.values)"
   ]
  },
  {
   "cell_type": "code",
   "execution_count": 32,
   "metadata": {},
   "outputs": [
    {
     "name": "stderr",
     "output_type": "stream",
     "text": [
      "Some weights of the model checkpoint at bert-base-uncased were not used when initializing BertForSequenceClassification: ['cls.seq_relationship.bias', 'cls.predictions.transform.dense.weight', 'cls.predictions.transform.LayerNorm.bias', 'cls.predictions.bias', 'cls.seq_relationship.weight', 'cls.predictions.transform.dense.bias', 'cls.predictions.transform.LayerNorm.weight']\n",
      "- This IS expected if you are initializing BertForSequenceClassification from the checkpoint of a model trained on another task or with another architecture (e.g. initializing a BertForSequenceClassification model from a BertForPreTraining model).\n",
      "- This IS NOT expected if you are initializing BertForSequenceClassification from the checkpoint of a model that you expect to be exactly identical (initializing a BertForSequenceClassification model from a BertForSequenceClassification model).\n",
      "Some weights of BertForSequenceClassification were not initialized from the model checkpoint at bert-base-uncased and are newly initialized: ['classifier.weight', 'classifier.bias']\n",
      "You should probably TRAIN this model on a down-stream task to be able to use it for predictions and inference.\n",
      "/root/llm/lib/python3.11/site-packages/transformers/optimization.py:411: FutureWarning: This implementation of AdamW is deprecated and will be removed in a future version. Use the PyTorch implementation torch.optim.AdamW instead, or set `no_deprecation_warning=True` to disable this warning\n",
      "  warnings.warn(\n"
     ]
    },
    {
     "name": "stdout",
     "output_type": "stream",
     "text": [
      "\n",
      "======== Epoch 1 / 2 ========\n",
      "Training...\n",
      "\n",
      "  Average training loss: 0.43\n",
      "  Training took: 0:00:02\n",
      "\n",
      "Running Validation...\n",
      "\n",
      "  Average test loss: 0.22\n",
      "  Validation took: 0:00:00\n",
      "              precision    recall  f1-score   support\n",
      "\n",
      "           0       0.95      0.96      0.96       104\n",
      "           1       0.96      0.95      0.95        96\n",
      "\n",
      "    accuracy                           0.95       200\n",
      "   macro avg       0.96      0.95      0.95       200\n",
      "weighted avg       0.96      0.95      0.95       200\n",
      "\n",
      "\n",
      "======== Epoch 2 / 2 ========\n",
      "Training...\n",
      "\n",
      "  Average training loss: 0.11\n",
      "  Training took: 0:00:02\n",
      "\n",
      "Running Validation...\n",
      "\n",
      "  Average test loss: 0.19\n",
      "  Validation took: 0:00:00\n",
      "              precision    recall  f1-score   support\n",
      "\n",
      "           0       0.98      0.96      0.97       104\n",
      "           1       0.96      0.98      0.97        96\n",
      "\n",
      "    accuracy                           0.97       200\n",
      "   macro avg       0.97      0.97      0.97       200\n",
      "weighted avg       0.97      0.97      0.97       200\n",
      "\n",
      "\n",
      "Training complete!\n"
     ]
    }
   ],
   "source": [
    "score = bert.run_training(train_loader,\n",
    "                          test_loader,\n",
    "                          n_epochs=2,\n",
    "                          lr=5e-5,\n",
    "                          random_state=42,\n",
    "                          save_model_as='clickbait')"
   ]
  },
  {
   "cell_type": "markdown",
   "metadata": {},
   "source": [
    "Prediction"
   ]
  },
  {
   "cell_type": "code",
   "execution_count": 33,
   "metadata": {},
   "outputs": [
    {
     "data": {
      "application/vnd.jupyter.widget-view+json": {
       "model_id": "b7a7a91602414e03b70095f7957e812c",
       "version_major": 2,
       "version_minor": 0
      },
      "text/plain": [
       "  0%|          | 0/50 [00:00<?, ?it/s]"
      ]
     },
     "metadata": {},
     "output_type": "display_data"
    },
    {
     "data": {
      "application/vnd.jupyter.widget-view+json": {
       "model_id": "f8f7fc5df2734314bdc017879194655a",
       "version_major": 2,
       "version_minor": 0
      },
      "text/plain": [
       "  0%|          | 0/50 [00:00<?, ?it/s]"
      ]
     },
     "metadata": {},
     "output_type": "display_data"
    }
   ],
   "source": [
    "pred_loader = bert.encode(cb_pred.headline.values)"
   ]
  },
  {
   "cell_type": "code",
   "execution_count": 34,
   "metadata": {},
   "outputs": [
    {
     "data": {
      "application/vnd.jupyter.widget-view+json": {
       "model_id": "04d6ec5b82134eb2ab80a8dc5a4d27f2",
       "version_major": 2,
       "version_minor": 0
      },
      "text/plain": [
       "  0%|          | 0/2 [00:00<?, ?it/s]"
      ]
     },
     "metadata": {},
     "output_type": "display_data"
    }
   ],
   "source": [
    "pred_proba = bert.predict_with_model(pred_loader, model_path='./models/clickbait')"
   ]
  },
  {
   "cell_type": "markdown",
   "metadata": {},
   "source": [
    "Inspect the prediction results"
   ]
  },
  {
   "cell_type": "code",
   "execution_count": 35,
   "metadata": {},
   "outputs": [],
   "source": [
    "cb_pred['pred_label'] = np.argmax(pred_proba, axis=1)\n",
    "cb_pred['pred_proba'] = np.max(pred_proba, axis=1)"
   ]
  },
  {
   "cell_type": "code",
   "execution_count": 36,
   "metadata": {},
   "outputs": [
    {
     "name": "stdout",
     "output_type": "stream",
     "text": [
      "34 Musical Baby Names That'll Make You Want To Procreate\n",
      "Is clickbait: True, with a probability of 98%\n",
      "\n",
      "Senate Approves Tight Regulation Over Cigarettes\n",
      "Is clickbait: False, with a probability of 97%\n",
      "\n",
      "Scotland predicted to have worst recession since 1980, but not as bad as rest of UK\n",
      "Is clickbait: False, with a probability of 97%\n",
      "\n",
      "17 Times Chloe The Mini Frenchie Won Instagram In 2015\n",
      "Is clickbait: True, with a probability of 96%\n",
      "\n",
      "Markets rally as world's central banks infuse cash\n",
      "Is clickbait: False, with a probability of 97%\n",
      "\n",
      "17 Photos Everyone Who Grew Up Eating Pan Dulce Will Relate To\n",
      "Is clickbait: True, with a probability of 96%\n",
      "\n",
      "Zimbabwean opposition leader rejects calls for power sharing talks\n",
      "Is clickbait: False, with a probability of 97%\n",
      "\n",
      "Chief of Swiss Re Steps Down\n",
      "Is clickbait: False, with a probability of 97%\n",
      "\n",
      "This Guy's Epic Story Explains Why Every Girl Has A Trapped In The Closet Moment\n",
      "Is clickbait: True, with a probability of 95%\n",
      "\n",
      "There's A New Trailer For The \"Sherlock\" Christmas Special And It's Pure Magic\n",
      "Is clickbait: True, with a probability of 96%\n",
      "\n",
      "Six dead in arson attack in Bridgetown, Barbados\n",
      "Is clickbait: False, with a probability of 97%\n",
      "\n",
      "22 Super Annoying Things Every Woman Has To Deal With\n",
      "Is clickbait: True, with a probability of 97%\n",
      "\n",
      "English Cricket Teams Get Uneven Treatment Everywhere but on the Field\n",
      "Is clickbait: False, with a probability of 96%\n",
      "\n",
      "Mayor Aims to Add Spark to Flagging Sex Lives\n",
      "Is clickbait: False, with a probability of 97%\n",
      "\n",
      "22 Hilarious Tweets About Being Exhausted All The Time\n",
      "Is clickbait: True, with a probability of 96%\n",
      "\n",
      "Nations begin to offer aid to regions afflicted by Indian subcontinent earthquake\n",
      "Is clickbait: False, with a probability of 97%\n",
      "\n",
      "U.S. Captain Hears Pleas for Afghan Detainee\n",
      "Is clickbait: False, with a probability of 97%\n",
      "\n",
      "Daw Aung San Suu Kyi, Burmese Pro-Democracy Leader, Goes on Trial\n",
      "Is clickbait: False, with a probability of 97%\n",
      "\n",
      "Stronger Euro Threatens Weak Economy in Europe\n",
      "Is clickbait: False, with a probability of 97%\n",
      "\n",
      "UK's BAA forced to sell three airports\n",
      "Is clickbait: False, with a probability of 98%\n",
      "\n",
      "We Know Who You Plan On Spending Valentine's Day With\n",
      "Is clickbait: True, with a probability of 96%\n",
      "\n",
      "Suicide bomber attacks Indian Embassy in Kabul, killing at least 41\n",
      "Is clickbait: False, with a probability of 97%\n",
      "\n",
      "31 Gifts For People Who Freakin' Love Fruit\n",
      "Is clickbait: True, with a probability of 97%\n",
      "\n",
      "21 Times Chris Pratt Was Too Good For This World\n",
      "Is clickbait: True, with a probability of 97%\n",
      "\n",
      "24 Times Kris Jenner Was Shut Down By Her Own Kids\n",
      "Is clickbait: True, with a probability of 96%\n",
      "\n",
      "French teacher returns home after being held in Iran for ten months\n",
      "Is clickbait: False, with a probability of 97%\n",
      "\n",
      "30 Face Swaps That Will Make You Really Uncomfortable\n",
      "Is clickbait: True, with a probability of 97%\n",
      "\n",
      "10 Mundane Things About Fall That Are Actually The Most Terrifying\n",
      "Is clickbait: True, with a probability of 97%\n",
      "\n",
      "22 Genius Running Hacks For When It's Cold AF Outside\n",
      "Is clickbait: True, with a probability of 97%\n",
      "\n",
      "21 Truths For People Who Like Animals More Than Other Humans\n",
      "Is clickbait: True, with a probability of 95%\n",
      "\n",
      "UK study reveals smoking could shorten men's lives by 10–15 years\n",
      "Is clickbait: False, with a probability of 96%\n",
      "\n",
      "Rumours suggest Alonso and Schumacher could move to Ferrari\n",
      "Is clickbait: False, with a probability of 97%\n",
      "\n",
      "18 Cake GIFs That'll Make You Moist\n",
      "Is clickbait: True, with a probability of 98%\n",
      "\n",
      "We Know Your Favorite Male Celebrity Based On Your Favorite Female Celebrity\n",
      "Is clickbait: True, with a probability of 96%\n",
      "\n",
      "Nonprofits Seek Lobby Rule Exceptions\n",
      "Is clickbait: False, with a probability of 97%\n",
      "\n",
      "13 Celebs Who Totally Got Dressed Up For \"Star Wars: The Force Awakens\"\n",
      "Is clickbait: True, with a probability of 97%\n",
      "\n",
      "16 Things Dudes Need To Stop Wearing In 2016\n",
      "Is clickbait: True, with a probability of 97%\n",
      "\n",
      "Deere Profit Fell 38% in 2nd Quarter\n",
      "Is clickbait: False, with a probability of 97%\n",
      "\n",
      "Major League Soccer 2008: Week 7 roundup\n",
      "Is clickbait: False, with a probability of 97%\n",
      "\n",
      "22 Insanely Adorable DIY Decorations For Holiday Parties\n",
      "Is clickbait: True, with a probability of 97%\n",
      "\n",
      "Delicacy of the Wild West Lives on for Those So Bold\n",
      "Is clickbait: True, with a probability of 94%\n",
      "\n",
      "17 Reasons Why Jos. Louis Are The Ultimate Culinary Delight\n",
      "Is clickbait: True, with a probability of 97%\n",
      "\n",
      "18 Hilarious Tweets About Going Vegan\n",
      "Is clickbait: True, with a probability of 97%\n",
      "\n",
      "27 Kids Who Totally Nailed This Halloween Thing\n",
      "Is clickbait: True, with a probability of 98%\n",
      "\n",
      "Mathematics summer school in Turkey threatened by authorities\n",
      "Is clickbait: False, with a probability of 97%\n",
      "\n",
      "These Star Wars Carbonite \"Pop-Tarts\" Are Too Cool For Words\n",
      "Is clickbait: True, with a probability of 96%\n",
      "\n",
      "What \"No Name\" Product Are You Actually\n",
      "Is clickbait: True, with a probability of 97%\n",
      "\n",
      "Search continues for nine missing after midair collision off California\n",
      "Is clickbait: False, with a probability of 97%\n",
      "\n",
      "25 Things You'll Only Get If You're Obsessed With Baths\n",
      "Is clickbait: True, with a probability of 98%\n",
      "\n",
      "American TV personality and \"Tonight Show\" sidekick Ed McMahon dies at 86\n",
      "Is clickbait: False, with a probability of 95%\n",
      "\n"
     ]
    }
   ],
   "source": [
    "for i in range(len(cb_pred)):\n",
    "    print(f\"{cb_pred.loc[i,'headline']}\")\n",
    "    print(f\"Is clickbait: {bool(cb_pred.loc[i,'pred_label'])}, with a probability of {cb_pred.loc[i,'pred_proba']*100:.0f}%\")\n",
    "    print()"
   ]
  }
 ],
 "metadata": {
  "accelerator": "GPU",
  "colab": {
   "gpuType": "T4",
   "provenance": []
  },
  "kernelspec": {
   "display_name": "Python 3 (ipykernel)",
   "language": "python",
   "name": "python3"
  },
  "language_info": {
   "codemirror_mode": {
    "name": "ipython",
    "version": 3
   },
   "file_extension": ".py",
   "mimetype": "text/x-python",
   "name": "python",
   "nbconvert_exporter": "python",
   "pygments_lexer": "ipython3",
   "version": "3.9.12"
  },
  "widgets": {
   "application/vnd.jupyter.widget-state+json": {
    "00d742c553a14df8a1b52d7982df4328": {
     "model_module": "@jupyter-widgets/base",
     "model_module_version": "1.2.0",
     "model_name": "LayoutModel",
     "state": {
      "_model_module": "@jupyter-widgets/base",
      "_model_module_version": "1.2.0",
      "_model_name": "LayoutModel",
      "_view_count": null,
      "_view_module": "@jupyter-widgets/base",
      "_view_module_version": "1.2.0",
      "_view_name": "LayoutView",
      "align_content": null,
      "align_items": null,
      "align_self": null,
      "border": null,
      "bottom": null,
      "display": null,
      "flex": null,
      "flex_flow": null,
      "grid_area": null,
      "grid_auto_columns": null,
      "grid_auto_flow": null,
      "grid_auto_rows": null,
      "grid_column": null,
      "grid_gap": null,
      "grid_row": null,
      "grid_template_areas": null,
      "grid_template_columns": null,
      "grid_template_rows": null,
      "height": null,
      "justify_content": null,
      "justify_items": null,
      "left": null,
      "margin": null,
      "max_height": null,
      "max_width": null,
      "min_height": null,
      "min_width": null,
      "object_fit": null,
      "object_position": null,
      "order": null,
      "overflow": null,
      "overflow_x": null,
      "overflow_y": null,
      "padding": null,
      "right": null,
      "top": null,
      "visibility": null,
      "width": null
     }
    },
    "02325303d03244c396a1f598a212b280": {
     "model_module": "@jupyter-widgets/base",
     "model_module_version": "1.2.0",
     "model_name": "LayoutModel",
     "state": {
      "_model_module": "@jupyter-widgets/base",
      "_model_module_version": "1.2.0",
      "_model_name": "LayoutModel",
      "_view_count": null,
      "_view_module": "@jupyter-widgets/base",
      "_view_module_version": "1.2.0",
      "_view_name": "LayoutView",
      "align_content": null,
      "align_items": null,
      "align_self": null,
      "border": null,
      "bottom": null,
      "display": null,
      "flex": null,
      "flex_flow": null,
      "grid_area": null,
      "grid_auto_columns": null,
      "grid_auto_flow": null,
      "grid_auto_rows": null,
      "grid_column": null,
      "grid_gap": null,
      "grid_row": null,
      "grid_template_areas": null,
      "grid_template_columns": null,
      "grid_template_rows": null,
      "height": null,
      "justify_content": null,
      "justify_items": null,
      "left": null,
      "margin": null,
      "max_height": null,
      "max_width": null,
      "min_height": null,
      "min_width": null,
      "object_fit": null,
      "object_position": null,
      "order": null,
      "overflow": null,
      "overflow_x": null,
      "overflow_y": null,
      "padding": null,
      "right": null,
      "top": null,
      "visibility": null,
      "width": null
     }
    },
    "084f59deb4414f318f009716f1e280a2": {
     "model_module": "@jupyter-widgets/base",
     "model_module_version": "1.2.0",
     "model_name": "LayoutModel",
     "state": {
      "_model_module": "@jupyter-widgets/base",
      "_model_module_version": "1.2.0",
      "_model_name": "LayoutModel",
      "_view_count": null,
      "_view_module": "@jupyter-widgets/base",
      "_view_module_version": "1.2.0",
      "_view_name": "LayoutView",
      "align_content": null,
      "align_items": null,
      "align_self": null,
      "border": null,
      "bottom": null,
      "display": null,
      "flex": null,
      "flex_flow": null,
      "grid_area": null,
      "grid_auto_columns": null,
      "grid_auto_flow": null,
      "grid_auto_rows": null,
      "grid_column": null,
      "grid_gap": null,
      "grid_row": null,
      "grid_template_areas": null,
      "grid_template_columns": null,
      "grid_template_rows": null,
      "height": null,
      "justify_content": null,
      "justify_items": null,
      "left": null,
      "margin": null,
      "max_height": null,
      "max_width": null,
      "min_height": null,
      "min_width": null,
      "object_fit": null,
      "object_position": null,
      "order": null,
      "overflow": null,
      "overflow_x": null,
      "overflow_y": null,
      "padding": null,
      "right": null,
      "top": null,
      "visibility": null,
      "width": null
     }
    },
    "0a5643b622324f8a83f80dea5bf7881c": {
     "model_module": "@jupyter-widgets/controls",
     "model_module_version": "1.5.0",
     "model_name": "HTMLModel",
     "state": {
      "_dom_classes": [],
      "_model_module": "@jupyter-widgets/controls",
      "_model_module_version": "1.5.0",
      "_model_name": "HTMLModel",
      "_view_count": null,
      "_view_module": "@jupyter-widgets/controls",
      "_view_module_version": "1.5.0",
      "_view_name": "HTMLView",
      "description": "",
      "description_tooltip": null,
      "layout": "IPY_MODEL_541460d1002c4e4192f2101d8af2a819",
      "placeholder": "​",
      "style": "IPY_MODEL_c87e36d6515347448709f0940dcc36d4",
      "value": "Downloading (…)solve/main/vocab.txt: 100%"
     }
    },
    "0c5c5081b6584632a5fca1b1361eab53": {
     "model_module": "@jupyter-widgets/controls",
     "model_module_version": "1.5.0",
     "model_name": "DescriptionStyleModel",
     "state": {
      "_model_module": "@jupyter-widgets/controls",
      "_model_module_version": "1.5.0",
      "_model_name": "DescriptionStyleModel",
      "_view_count": null,
      "_view_module": "@jupyter-widgets/base",
      "_view_module_version": "1.2.0",
      "_view_name": "StyleView",
      "description_width": ""
     }
    },
    "100086b6d4624c0b92fef53b4ef66058": {
     "model_module": "@jupyter-widgets/controls",
     "model_module_version": "1.5.0",
     "model_name": "HBoxModel",
     "state": {
      "_dom_classes": [],
      "_model_module": "@jupyter-widgets/controls",
      "_model_module_version": "1.5.0",
      "_model_name": "HBoxModel",
      "_view_count": null,
      "_view_module": "@jupyter-widgets/controls",
      "_view_module_version": "1.5.0",
      "_view_name": "HBoxView",
      "box_style": "",
      "children": [
       "IPY_MODEL_5b35c4ceb44e4ffe842b261144bf52cd",
       "IPY_MODEL_5e04a54360434c27a7c3b9985e057ffe",
       "IPY_MODEL_d7d10183bdcc4edb90c0f1c5be47dd6b"
      ],
      "layout": "IPY_MODEL_eda7fd9aaeef4e368a11d4c207af30a4"
     }
    },
    "104ca82e8ffa4785b82c55a37585d7b8": {
     "model_module": "@jupyter-widgets/controls",
     "model_module_version": "1.5.0",
     "model_name": "ProgressStyleModel",
     "state": {
      "_model_module": "@jupyter-widgets/controls",
      "_model_module_version": "1.5.0",
      "_model_name": "ProgressStyleModel",
      "_view_count": null,
      "_view_module": "@jupyter-widgets/base",
      "_view_module_version": "1.2.0",
      "_view_name": "StyleView",
      "bar_color": null,
      "description_width": ""
     }
    },
    "11d62ff1b9364b9880cb84f6035f8391": {
     "model_module": "@jupyter-widgets/base",
     "model_module_version": "1.2.0",
     "model_name": "LayoutModel",
     "state": {
      "_model_module": "@jupyter-widgets/base",
      "_model_module_version": "1.2.0",
      "_model_name": "LayoutModel",
      "_view_count": null,
      "_view_module": "@jupyter-widgets/base",
      "_view_module_version": "1.2.0",
      "_view_name": "LayoutView",
      "align_content": null,
      "align_items": null,
      "align_self": null,
      "border": null,
      "bottom": null,
      "display": null,
      "flex": null,
      "flex_flow": null,
      "grid_area": null,
      "grid_auto_columns": null,
      "grid_auto_flow": null,
      "grid_auto_rows": null,
      "grid_column": null,
      "grid_gap": null,
      "grid_row": null,
      "grid_template_areas": null,
      "grid_template_columns": null,
      "grid_template_rows": null,
      "height": null,
      "justify_content": null,
      "justify_items": null,
      "left": null,
      "margin": null,
      "max_height": null,
      "max_width": null,
      "min_height": null,
      "min_width": null,
      "object_fit": null,
      "object_position": null,
      "order": null,
      "overflow": null,
      "overflow_x": null,
      "overflow_y": null,
      "padding": null,
      "right": null,
      "top": null,
      "visibility": null,
      "width": null
     }
    },
    "1a15573829864638b9f4433a32e340f1": {
     "model_module": "@jupyter-widgets/base",
     "model_module_version": "1.2.0",
     "model_name": "LayoutModel",
     "state": {
      "_model_module": "@jupyter-widgets/base",
      "_model_module_version": "1.2.0",
      "_model_name": "LayoutModel",
      "_view_count": null,
      "_view_module": "@jupyter-widgets/base",
      "_view_module_version": "1.2.0",
      "_view_name": "LayoutView",
      "align_content": null,
      "align_items": null,
      "align_self": null,
      "border": null,
      "bottom": null,
      "display": null,
      "flex": null,
      "flex_flow": null,
      "grid_area": null,
      "grid_auto_columns": null,
      "grid_auto_flow": null,
      "grid_auto_rows": null,
      "grid_column": null,
      "grid_gap": null,
      "grid_row": null,
      "grid_template_areas": null,
      "grid_template_columns": null,
      "grid_template_rows": null,
      "height": null,
      "justify_content": null,
      "justify_items": null,
      "left": null,
      "margin": null,
      "max_height": null,
      "max_width": null,
      "min_height": null,
      "min_width": null,
      "object_fit": null,
      "object_position": null,
      "order": null,
      "overflow": null,
      "overflow_x": null,
      "overflow_y": null,
      "padding": null,
      "right": null,
      "top": null,
      "visibility": null,
      "width": null
     }
    },
    "1a7e9142127f42ffb18d5e6000496f41": {
     "model_module": "@jupyter-widgets/controls",
     "model_module_version": "1.5.0",
     "model_name": "HTMLModel",
     "state": {
      "_dom_classes": [],
      "_model_module": "@jupyter-widgets/controls",
      "_model_module_version": "1.5.0",
      "_model_name": "HTMLModel",
      "_view_count": null,
      "_view_module": "@jupyter-widgets/controls",
      "_view_module_version": "1.5.0",
      "_view_name": "HTMLView",
      "description": "",
      "description_tooltip": null,
      "layout": "IPY_MODEL_340e54dba6354298903c3d04816e1290",
      "placeholder": "​",
      "style": "IPY_MODEL_796bd00c36564ab9a8ae081bc1eebcfc",
      "value": "100%"
     }
    },
    "1ad599de24b2431294d74a2cf5d5241d": {
     "model_module": "@jupyter-widgets/base",
     "model_module_version": "1.2.0",
     "model_name": "LayoutModel",
     "state": {
      "_model_module": "@jupyter-widgets/base",
      "_model_module_version": "1.2.0",
      "_model_name": "LayoutModel",
      "_view_count": null,
      "_view_module": "@jupyter-widgets/base",
      "_view_module_version": "1.2.0",
      "_view_name": "LayoutView",
      "align_content": null,
      "align_items": null,
      "align_self": null,
      "border": null,
      "bottom": null,
      "display": null,
      "flex": null,
      "flex_flow": null,
      "grid_area": null,
      "grid_auto_columns": null,
      "grid_auto_flow": null,
      "grid_auto_rows": null,
      "grid_column": null,
      "grid_gap": null,
      "grid_row": null,
      "grid_template_areas": null,
      "grid_template_columns": null,
      "grid_template_rows": null,
      "height": null,
      "justify_content": null,
      "justify_items": null,
      "left": null,
      "margin": null,
      "max_height": null,
      "max_width": null,
      "min_height": null,
      "min_width": null,
      "object_fit": null,
      "object_position": null,
      "order": null,
      "overflow": null,
      "overflow_x": null,
      "overflow_y": null,
      "padding": null,
      "right": null,
      "top": null,
      "visibility": null,
      "width": null
     }
    },
    "1cf2231d73d9453aaee554ee9e54a1ab": {
     "model_module": "@jupyter-widgets/controls",
     "model_module_version": "1.5.0",
     "model_name": "HTMLModel",
     "state": {
      "_dom_classes": [],
      "_model_module": "@jupyter-widgets/controls",
      "_model_module_version": "1.5.0",
      "_model_name": "HTMLModel",
      "_view_count": null,
      "_view_module": "@jupyter-widgets/controls",
      "_view_module_version": "1.5.0",
      "_view_name": "HTMLView",
      "description": "",
      "description_tooltip": null,
      "layout": "IPY_MODEL_4666d1570ecd4639b5511b1297a6d9a3",
      "placeholder": "​",
      "style": "IPY_MODEL_55c3f9ef979843728a12a4205fa5a38d",
      "value": "100%"
     }
    },
    "2476d0358ff24fd69400ddbe3aaed987": {
     "model_module": "@jupyter-widgets/controls",
     "model_module_version": "1.5.0",
     "model_name": "ProgressStyleModel",
     "state": {
      "_model_module": "@jupyter-widgets/controls",
      "_model_module_version": "1.5.0",
      "_model_name": "ProgressStyleModel",
      "_view_count": null,
      "_view_module": "@jupyter-widgets/base",
      "_view_module_version": "1.2.0",
      "_view_name": "StyleView",
      "bar_color": null,
      "description_width": ""
     }
    },
    "24c22dbfcd234a8cb2e9b4e5a87234b6": {
     "model_module": "@jupyter-widgets/controls",
     "model_module_version": "1.5.0",
     "model_name": "HTMLModel",
     "state": {
      "_dom_classes": [],
      "_model_module": "@jupyter-widgets/controls",
      "_model_module_version": "1.5.0",
      "_model_name": "HTMLModel",
      "_view_count": null,
      "_view_module": "@jupyter-widgets/controls",
      "_view_module_version": "1.5.0",
      "_view_name": "HTMLView",
      "description": "",
      "description_tooltip": null,
      "layout": "IPY_MODEL_ca4748f442f6428582a55959c6f7e93c",
      "placeholder": "​",
      "style": "IPY_MODEL_f40de586ee044accaabd9d1c2e5e6523",
      "value": " 3439/3439 [00:00&lt;00:00, 14183.45it/s]"
     }
    },
    "264dc3611a604af5935989cb0261d2d5": {
     "model_module": "@jupyter-widgets/base",
     "model_module_version": "1.2.0",
     "model_name": "LayoutModel",
     "state": {
      "_model_module": "@jupyter-widgets/base",
      "_model_module_version": "1.2.0",
      "_model_name": "LayoutModel",
      "_view_count": null,
      "_view_module": "@jupyter-widgets/base",
      "_view_module_version": "1.2.0",
      "_view_name": "LayoutView",
      "align_content": null,
      "align_items": null,
      "align_self": null,
      "border": null,
      "bottom": null,
      "display": null,
      "flex": null,
      "flex_flow": null,
      "grid_area": null,
      "grid_auto_columns": null,
      "grid_auto_flow": null,
      "grid_auto_rows": null,
      "grid_column": null,
      "grid_gap": null,
      "grid_row": null,
      "grid_template_areas": null,
      "grid_template_columns": null,
      "grid_template_rows": null,
      "height": null,
      "justify_content": null,
      "justify_items": null,
      "left": null,
      "margin": null,
      "max_height": null,
      "max_width": null,
      "min_height": null,
      "min_width": null,
      "object_fit": null,
      "object_position": null,
      "order": null,
      "overflow": null,
      "overflow_x": null,
      "overflow_y": null,
      "padding": null,
      "right": null,
      "top": null,
      "visibility": null,
      "width": null
     }
    },
    "27612949a5d64b83907baa0e043e3e0d": {
     "model_module": "@jupyter-widgets/controls",
     "model_module_version": "1.5.0",
     "model_name": "DescriptionStyleModel",
     "state": {
      "_model_module": "@jupyter-widgets/controls",
      "_model_module_version": "1.5.0",
      "_model_name": "DescriptionStyleModel",
      "_view_count": null,
      "_view_module": "@jupyter-widgets/base",
      "_view_module_version": "1.2.0",
      "_view_name": "StyleView",
      "description_width": ""
     }
    },
    "2e28ac5ee3834abba5842c1a70e5384f": {
     "model_module": "@jupyter-widgets/controls",
     "model_module_version": "1.5.0",
     "model_name": "DescriptionStyleModel",
     "state": {
      "_model_module": "@jupyter-widgets/controls",
      "_model_module_version": "1.5.0",
      "_model_name": "DescriptionStyleModel",
      "_view_count": null,
      "_view_module": "@jupyter-widgets/base",
      "_view_module_version": "1.2.0",
      "_view_name": "StyleView",
      "description_width": ""
     }
    },
    "340e54dba6354298903c3d04816e1290": {
     "model_module": "@jupyter-widgets/base",
     "model_module_version": "1.2.0",
     "model_name": "LayoutModel",
     "state": {
      "_model_module": "@jupyter-widgets/base",
      "_model_module_version": "1.2.0",
      "_model_name": "LayoutModel",
      "_view_count": null,
      "_view_module": "@jupyter-widgets/base",
      "_view_module_version": "1.2.0",
      "_view_name": "LayoutView",
      "align_content": null,
      "align_items": null,
      "align_self": null,
      "border": null,
      "bottom": null,
      "display": null,
      "flex": null,
      "flex_flow": null,
      "grid_area": null,
      "grid_auto_columns": null,
      "grid_auto_flow": null,
      "grid_auto_rows": null,
      "grid_column": null,
      "grid_gap": null,
      "grid_row": null,
      "grid_template_areas": null,
      "grid_template_columns": null,
      "grid_template_rows": null,
      "height": null,
      "justify_content": null,
      "justify_items": null,
      "left": null,
      "margin": null,
      "max_height": null,
      "max_width": null,
      "min_height": null,
      "min_width": null,
      "object_fit": null,
      "object_position": null,
      "order": null,
      "overflow": null,
      "overflow_x": null,
      "overflow_y": null,
      "padding": null,
      "right": null,
      "top": null,
      "visibility": null,
      "width": null
     }
    },
    "4666d1570ecd4639b5511b1297a6d9a3": {
     "model_module": "@jupyter-widgets/base",
     "model_module_version": "1.2.0",
     "model_name": "LayoutModel",
     "state": {
      "_model_module": "@jupyter-widgets/base",
      "_model_module_version": "1.2.0",
      "_model_name": "LayoutModel",
      "_view_count": null,
      "_view_module": "@jupyter-widgets/base",
      "_view_module_version": "1.2.0",
      "_view_name": "LayoutView",
      "align_content": null,
      "align_items": null,
      "align_self": null,
      "border": null,
      "bottom": null,
      "display": null,
      "flex": null,
      "flex_flow": null,
      "grid_area": null,
      "grid_auto_columns": null,
      "grid_auto_flow": null,
      "grid_auto_rows": null,
      "grid_column": null,
      "grid_gap": null,
      "grid_row": null,
      "grid_template_areas": null,
      "grid_template_columns": null,
      "grid_template_rows": null,
      "height": null,
      "justify_content": null,
      "justify_items": null,
      "left": null,
      "margin": null,
      "max_height": null,
      "max_width": null,
      "min_height": null,
      "min_width": null,
      "object_fit": null,
      "object_position": null,
      "order": null,
      "overflow": null,
      "overflow_x": null,
      "overflow_y": null,
      "padding": null,
      "right": null,
      "top": null,
      "visibility": null,
      "width": null
     }
    },
    "4bc52980643b4804a22809ed1b61e030": {
     "model_module": "@jupyter-widgets/controls",
     "model_module_version": "1.5.0",
     "model_name": "HTMLModel",
     "state": {
      "_dom_classes": [],
      "_model_module": "@jupyter-widgets/controls",
      "_model_module_version": "1.5.0",
      "_model_name": "HTMLModel",
      "_view_count": null,
      "_view_module": "@jupyter-widgets/controls",
      "_view_module_version": "1.5.0",
      "_view_name": "HTMLView",
      "description": "",
      "description_tooltip": null,
      "layout": "IPY_MODEL_f46424c47d3b4b2596675c77dac1dd9a",
      "placeholder": "​",
      "style": "IPY_MODEL_d76fb1d36b624d53a118dff5fb95a494",
      "value": " 3439/3439 [00:04&lt;00:00, 1013.26it/s]"
     }
    },
    "4bc59c0714884f4993eefd2802ffafe0": {
     "model_module": "@jupyter-widgets/base",
     "model_module_version": "1.2.0",
     "model_name": "LayoutModel",
     "state": {
      "_model_module": "@jupyter-widgets/base",
      "_model_module_version": "1.2.0",
      "_model_name": "LayoutModel",
      "_view_count": null,
      "_view_module": "@jupyter-widgets/base",
      "_view_module_version": "1.2.0",
      "_view_name": "LayoutView",
      "align_content": null,
      "align_items": null,
      "align_self": null,
      "border": null,
      "bottom": null,
      "display": null,
      "flex": null,
      "flex_flow": null,
      "grid_area": null,
      "grid_auto_columns": null,
      "grid_auto_flow": null,
      "grid_auto_rows": null,
      "grid_column": null,
      "grid_gap": null,
      "grid_row": null,
      "grid_template_areas": null,
      "grid_template_columns": null,
      "grid_template_rows": null,
      "height": null,
      "justify_content": null,
      "justify_items": null,
      "left": null,
      "margin": null,
      "max_height": null,
      "max_width": null,
      "min_height": null,
      "min_width": null,
      "object_fit": null,
      "object_position": null,
      "order": null,
      "overflow": null,
      "overflow_x": null,
      "overflow_y": null,
      "padding": null,
      "right": null,
      "top": null,
      "visibility": null,
      "width": null
     }
    },
    "4cc927af1bd5435e90076cb78689192f": {
     "model_module": "@jupyter-widgets/controls",
     "model_module_version": "1.5.0",
     "model_name": "FloatProgressModel",
     "state": {
      "_dom_classes": [],
      "_model_module": "@jupyter-widgets/controls",
      "_model_module_version": "1.5.0",
      "_model_name": "FloatProgressModel",
      "_view_count": null,
      "_view_module": "@jupyter-widgets/controls",
      "_view_module_version": "1.5.0",
      "_view_name": "ProgressView",
      "bar_style": "success",
      "description": "",
      "description_tooltip": null,
      "layout": "IPY_MODEL_8982b27018fc4fdf9d1063633b39f7a0",
      "max": 231508,
      "min": 0,
      "orientation": "horizontal",
      "style": "IPY_MODEL_590d55d2c0054763a2594d8227104e16",
      "value": 231508
     }
    },
    "51c137119e924c3e99984bb40a07f7ce": {
     "model_module": "@jupyter-widgets/base",
     "model_module_version": "1.2.0",
     "model_name": "LayoutModel",
     "state": {
      "_model_module": "@jupyter-widgets/base",
      "_model_module_version": "1.2.0",
      "_model_name": "LayoutModel",
      "_view_count": null,
      "_view_module": "@jupyter-widgets/base",
      "_view_module_version": "1.2.0",
      "_view_name": "LayoutView",
      "align_content": null,
      "align_items": null,
      "align_self": null,
      "border": null,
      "bottom": null,
      "display": null,
      "flex": null,
      "flex_flow": null,
      "grid_area": null,
      "grid_auto_columns": null,
      "grid_auto_flow": null,
      "grid_auto_rows": null,
      "grid_column": null,
      "grid_gap": null,
      "grid_row": null,
      "grid_template_areas": null,
      "grid_template_columns": null,
      "grid_template_rows": null,
      "height": null,
      "justify_content": null,
      "justify_items": null,
      "left": null,
      "margin": null,
      "max_height": null,
      "max_width": null,
      "min_height": null,
      "min_width": null,
      "object_fit": null,
      "object_position": null,
      "order": null,
      "overflow": null,
      "overflow_x": null,
      "overflow_y": null,
      "padding": null,
      "right": null,
      "top": null,
      "visibility": null,
      "width": null
     }
    },
    "541460d1002c4e4192f2101d8af2a819": {
     "model_module": "@jupyter-widgets/base",
     "model_module_version": "1.2.0",
     "model_name": "LayoutModel",
     "state": {
      "_model_module": "@jupyter-widgets/base",
      "_model_module_version": "1.2.0",
      "_model_name": "LayoutModel",
      "_view_count": null,
      "_view_module": "@jupyter-widgets/base",
      "_view_module_version": "1.2.0",
      "_view_name": "LayoutView",
      "align_content": null,
      "align_items": null,
      "align_self": null,
      "border": null,
      "bottom": null,
      "display": null,
      "flex": null,
      "flex_flow": null,
      "grid_area": null,
      "grid_auto_columns": null,
      "grid_auto_flow": null,
      "grid_auto_rows": null,
      "grid_column": null,
      "grid_gap": null,
      "grid_row": null,
      "grid_template_areas": null,
      "grid_template_columns": null,
      "grid_template_rows": null,
      "height": null,
      "justify_content": null,
      "justify_items": null,
      "left": null,
      "margin": null,
      "max_height": null,
      "max_width": null,
      "min_height": null,
      "min_width": null,
      "object_fit": null,
      "object_position": null,
      "order": null,
      "overflow": null,
      "overflow_x": null,
      "overflow_y": null,
      "padding": null,
      "right": null,
      "top": null,
      "visibility": null,
      "width": null
     }
    },
    "55c3f9ef979843728a12a4205fa5a38d": {
     "model_module": "@jupyter-widgets/controls",
     "model_module_version": "1.5.0",
     "model_name": "DescriptionStyleModel",
     "state": {
      "_model_module": "@jupyter-widgets/controls",
      "_model_module_version": "1.5.0",
      "_model_name": "DescriptionStyleModel",
      "_view_count": null,
      "_view_module": "@jupyter-widgets/base",
      "_view_module_version": "1.2.0",
      "_view_name": "StyleView",
      "description_width": ""
     }
    },
    "56422d46bc6c46fc87b294850fc680f1": {
     "model_module": "@jupyter-widgets/base",
     "model_module_version": "1.2.0",
     "model_name": "LayoutModel",
     "state": {
      "_model_module": "@jupyter-widgets/base",
      "_model_module_version": "1.2.0",
      "_model_name": "LayoutModel",
      "_view_count": null,
      "_view_module": "@jupyter-widgets/base",
      "_view_module_version": "1.2.0",
      "_view_name": "LayoutView",
      "align_content": null,
      "align_items": null,
      "align_self": null,
      "border": null,
      "bottom": null,
      "display": null,
      "flex": null,
      "flex_flow": null,
      "grid_area": null,
      "grid_auto_columns": null,
      "grid_auto_flow": null,
      "grid_auto_rows": null,
      "grid_column": null,
      "grid_gap": null,
      "grid_row": null,
      "grid_template_areas": null,
      "grid_template_columns": null,
      "grid_template_rows": null,
      "height": null,
      "justify_content": null,
      "justify_items": null,
      "left": null,
      "margin": null,
      "max_height": null,
      "max_width": null,
      "min_height": null,
      "min_width": null,
      "object_fit": null,
      "object_position": null,
      "order": null,
      "overflow": null,
      "overflow_x": null,
      "overflow_y": null,
      "padding": null,
      "right": null,
      "top": null,
      "visibility": null,
      "width": null
     }
    },
    "590d55d2c0054763a2594d8227104e16": {
     "model_module": "@jupyter-widgets/controls",
     "model_module_version": "1.5.0",
     "model_name": "ProgressStyleModel",
     "state": {
      "_model_module": "@jupyter-widgets/controls",
      "_model_module_version": "1.5.0",
      "_model_name": "ProgressStyleModel",
      "_view_count": null,
      "_view_module": "@jupyter-widgets/base",
      "_view_module_version": "1.2.0",
      "_view_name": "StyleView",
      "bar_color": null,
      "description_width": ""
     }
    },
    "59eb0aee6f2044d6931427822e892ec7": {
     "model_module": "@jupyter-widgets/controls",
     "model_module_version": "1.5.0",
     "model_name": "ProgressStyleModel",
     "state": {
      "_model_module": "@jupyter-widgets/controls",
      "_model_module_version": "1.5.0",
      "_model_name": "ProgressStyleModel",
      "_view_count": null,
      "_view_module": "@jupyter-widgets/base",
      "_view_module_version": "1.2.0",
      "_view_name": "StyleView",
      "bar_color": null,
      "description_width": ""
     }
    },
    "5ac65f4d100f40a48a33b5799657c20a": {
     "model_module": "@jupyter-widgets/controls",
     "model_module_version": "1.5.0",
     "model_name": "HBoxModel",
     "state": {
      "_dom_classes": [],
      "_model_module": "@jupyter-widgets/controls",
      "_model_module_version": "1.5.0",
      "_model_name": "HBoxModel",
      "_view_count": null,
      "_view_module": "@jupyter-widgets/controls",
      "_view_module_version": "1.5.0",
      "_view_name": "HBoxView",
      "box_style": "",
      "children": [
       "IPY_MODEL_1a7e9142127f42ffb18d5e6000496f41",
       "IPY_MODEL_c6fb67142800433dadb12cfae440958a",
       "IPY_MODEL_5b45cc448a16452db797b1080d5eb5bc"
      ],
      "layout": "IPY_MODEL_88373c78125c4943b4d962f16f56bf61"
     }
    },
    "5b35c4ceb44e4ffe842b261144bf52cd": {
     "model_module": "@jupyter-widgets/controls",
     "model_module_version": "1.5.0",
     "model_name": "HTMLModel",
     "state": {
      "_dom_classes": [],
      "_model_module": "@jupyter-widgets/controls",
      "_model_module_version": "1.5.0",
      "_model_name": "HTMLModel",
      "_view_count": null,
      "_view_module": "@jupyter-widgets/controls",
      "_view_module_version": "1.5.0",
      "_view_name": "HTMLView",
      "description": "",
      "description_tooltip": null,
      "layout": "IPY_MODEL_858dac52492c46699c63c8c7d0e5625e",
      "placeholder": "​",
      "style": "IPY_MODEL_c1bb07bb8e91486e9b04ba3842fe3c4d",
      "value": "Downloading (…)lve/main/config.json: 100%"
     }
    },
    "5b45cc448a16452db797b1080d5eb5bc": {
     "model_module": "@jupyter-widgets/controls",
     "model_module_version": "1.5.0",
     "model_name": "HTMLModel",
     "state": {
      "_dom_classes": [],
      "_model_module": "@jupyter-widgets/controls",
      "_model_module_version": "1.5.0",
      "_model_name": "HTMLModel",
      "_view_count": null,
      "_view_module": "@jupyter-widgets/controls",
      "_view_module_version": "1.5.0",
      "_view_name": "HTMLView",
      "description": "",
      "description_tooltip": null,
      "layout": "IPY_MODEL_00d742c553a14df8a1b52d7982df4328",
      "placeholder": "​",
      "style": "IPY_MODEL_b6e8e704af554ff18459be4d92a15332",
      "value": " 860/860 [00:00&lt;00:00, 12896.05it/s]"
     }
    },
    "5e04a54360434c27a7c3b9985e057ffe": {
     "model_module": "@jupyter-widgets/controls",
     "model_module_version": "1.5.0",
     "model_name": "FloatProgressModel",
     "state": {
      "_dom_classes": [],
      "_model_module": "@jupyter-widgets/controls",
      "_model_module_version": "1.5.0",
      "_model_name": "FloatProgressModel",
      "_view_count": null,
      "_view_module": "@jupyter-widgets/controls",
      "_view_module_version": "1.5.0",
      "_view_name": "ProgressView",
      "bar_style": "success",
      "description": "",
      "description_tooltip": null,
      "layout": "IPY_MODEL_760e044724e446e9bbcc29c75cb9b1c9",
      "max": 570,
      "min": 0,
      "orientation": "horizontal",
      "style": "IPY_MODEL_abdbb580d76944f497e6cc191d742a30",
      "value": 570
     }
    },
    "6125b9e9693d405dbf9b1a0224e1dfbf": {
     "model_module": "@jupyter-widgets/controls",
     "model_module_version": "1.5.0",
     "model_name": "HTMLModel",
     "state": {
      "_dom_classes": [],
      "_model_module": "@jupyter-widgets/controls",
      "_model_module_version": "1.5.0",
      "_model_name": "HTMLModel",
      "_view_count": null,
      "_view_module": "@jupyter-widgets/controls",
      "_view_module_version": "1.5.0",
      "_view_name": "HTMLView",
      "description": "",
      "description_tooltip": null,
      "layout": "IPY_MODEL_955fbd47307941a988d150b39649cc1e",
      "placeholder": "​",
      "style": "IPY_MODEL_0c5c5081b6584632a5fca1b1361eab53",
      "value": " 28.0/28.0 [00:00&lt;00:00, 1.49kB/s]"
     }
    },
    "62578c5e66004175915c3bf9346efa1d": {
     "model_module": "@jupyter-widgets/controls",
     "model_module_version": "1.5.0",
     "model_name": "DescriptionStyleModel",
     "state": {
      "_model_module": "@jupyter-widgets/controls",
      "_model_module_version": "1.5.0",
      "_model_name": "DescriptionStyleModel",
      "_view_count": null,
      "_view_module": "@jupyter-widgets/base",
      "_view_module_version": "1.2.0",
      "_view_name": "StyleView",
      "description_width": ""
     }
    },
    "641aa2ab2f294cbba62ab7f2e5dda3b1": {
     "model_module": "@jupyter-widgets/controls",
     "model_module_version": "1.5.0",
     "model_name": "HTMLModel",
     "state": {
      "_dom_classes": [],
      "_model_module": "@jupyter-widgets/controls",
      "_model_module_version": "1.5.0",
      "_model_name": "HTMLModel",
      "_view_count": null,
      "_view_module": "@jupyter-widgets/controls",
      "_view_module_version": "1.5.0",
      "_view_name": "HTMLView",
      "description": "",
      "description_tooltip": null,
      "layout": "IPY_MODEL_264dc3611a604af5935989cb0261d2d5",
      "placeholder": "​",
      "style": "IPY_MODEL_cb2c295252114abe8d2330e1f7fb2801",
      "value": "Downloading (…)okenizer_config.json: 100%"
     }
    },
    "651dd36b3653410684ddfdd5ae987c6e": {
     "model_module": "@jupyter-widgets/controls",
     "model_module_version": "1.5.0",
     "model_name": "HBoxModel",
     "state": {
      "_dom_classes": [],
      "_model_module": "@jupyter-widgets/controls",
      "_model_module_version": "1.5.0",
      "_model_name": "HBoxModel",
      "_view_count": null,
      "_view_module": "@jupyter-widgets/controls",
      "_view_module_version": "1.5.0",
      "_view_name": "HBoxView",
      "box_style": "",
      "children": [
       "IPY_MODEL_1cf2231d73d9453aaee554ee9e54a1ab",
       "IPY_MODEL_f4ec303b655441e1a8c7a647a1c76148",
       "IPY_MODEL_4bc52980643b4804a22809ed1b61e030"
      ],
      "layout": "IPY_MODEL_8e3df7e6d5014d17993dea1b0105df88"
     }
    },
    "662af6c078644a09bf54b132c6db2960": {
     "model_module": "@jupyter-widgets/base",
     "model_module_version": "1.2.0",
     "model_name": "LayoutModel",
     "state": {
      "_model_module": "@jupyter-widgets/base",
      "_model_module_version": "1.2.0",
      "_model_name": "LayoutModel",
      "_view_count": null,
      "_view_module": "@jupyter-widgets/base",
      "_view_module_version": "1.2.0",
      "_view_name": "LayoutView",
      "align_content": null,
      "align_items": null,
      "align_self": null,
      "border": null,
      "bottom": null,
      "display": null,
      "flex": null,
      "flex_flow": null,
      "grid_area": null,
      "grid_auto_columns": null,
      "grid_auto_flow": null,
      "grid_auto_rows": null,
      "grid_column": null,
      "grid_gap": null,
      "grid_row": null,
      "grid_template_areas": null,
      "grid_template_columns": null,
      "grid_template_rows": null,
      "height": null,
      "justify_content": null,
      "justify_items": null,
      "left": null,
      "margin": null,
      "max_height": null,
      "max_width": null,
      "min_height": null,
      "min_width": null,
      "object_fit": null,
      "object_position": null,
      "order": null,
      "overflow": null,
      "overflow_x": null,
      "overflow_y": null,
      "padding": null,
      "right": null,
      "top": null,
      "visibility": null,
      "width": null
     }
    },
    "668a07486fb6496b8e32d34c1606c9ff": {
     "model_module": "@jupyter-widgets/controls",
     "model_module_version": "1.5.0",
     "model_name": "HTMLModel",
     "state": {
      "_dom_classes": [],
      "_model_module": "@jupyter-widgets/controls",
      "_model_module_version": "1.5.0",
      "_model_name": "HTMLModel",
      "_view_count": null,
      "_view_module": "@jupyter-widgets/controls",
      "_view_module_version": "1.5.0",
      "_view_name": "HTMLView",
      "description": "",
      "description_tooltip": null,
      "layout": "IPY_MODEL_662af6c078644a09bf54b132c6db2960",
      "placeholder": "​",
      "style": "IPY_MODEL_2e28ac5ee3834abba5842c1a70e5384f",
      "value": " 860/860 [00:00&lt;00:00, 1340.71it/s]"
     }
    },
    "693b762851ad450cbbcc9aad0bf45765": {
     "model_module": "@jupyter-widgets/base",
     "model_module_version": "1.2.0",
     "model_name": "LayoutModel",
     "state": {
      "_model_module": "@jupyter-widgets/base",
      "_model_module_version": "1.2.0",
      "_model_name": "LayoutModel",
      "_view_count": null,
      "_view_module": "@jupyter-widgets/base",
      "_view_module_version": "1.2.0",
      "_view_name": "LayoutView",
      "align_content": null,
      "align_items": null,
      "align_self": null,
      "border": null,
      "bottom": null,
      "display": null,
      "flex": null,
      "flex_flow": null,
      "grid_area": null,
      "grid_auto_columns": null,
      "grid_auto_flow": null,
      "grid_auto_rows": null,
      "grid_column": null,
      "grid_gap": null,
      "grid_row": null,
      "grid_template_areas": null,
      "grid_template_columns": null,
      "grid_template_rows": null,
      "height": null,
      "justify_content": null,
      "justify_items": null,
      "left": null,
      "margin": null,
      "max_height": null,
      "max_width": null,
      "min_height": null,
      "min_width": null,
      "object_fit": null,
      "object_position": null,
      "order": null,
      "overflow": null,
      "overflow_x": null,
      "overflow_y": null,
      "padding": null,
      "right": null,
      "top": null,
      "visibility": null,
      "width": null
     }
    },
    "6dc89b0aff404732b85028ff26243bc5": {
     "model_module": "@jupyter-widgets/controls",
     "model_module_version": "1.5.0",
     "model_name": "HBoxModel",
     "state": {
      "_dom_classes": [],
      "_model_module": "@jupyter-widgets/controls",
      "_model_module_version": "1.5.0",
      "_model_name": "HBoxModel",
      "_view_count": null,
      "_view_module": "@jupyter-widgets/controls",
      "_view_module_version": "1.5.0",
      "_view_name": "HBoxView",
      "box_style": "",
      "children": [
       "IPY_MODEL_0a5643b622324f8a83f80dea5bf7881c",
       "IPY_MODEL_4cc927af1bd5435e90076cb78689192f",
       "IPY_MODEL_9570395f88da40e5b4177ec9dbf83268"
      ],
      "layout": "IPY_MODEL_51c137119e924c3e99984bb40a07f7ce"
     }
    },
    "75cd3757d0c74be3a43c1a775b0d482e": {
     "model_module": "@jupyter-widgets/base",
     "model_module_version": "1.2.0",
     "model_name": "LayoutModel",
     "state": {
      "_model_module": "@jupyter-widgets/base",
      "_model_module_version": "1.2.0",
      "_model_name": "LayoutModel",
      "_view_count": null,
      "_view_module": "@jupyter-widgets/base",
      "_view_module_version": "1.2.0",
      "_view_name": "LayoutView",
      "align_content": null,
      "align_items": null,
      "align_self": null,
      "border": null,
      "bottom": null,
      "display": null,
      "flex": null,
      "flex_flow": null,
      "grid_area": null,
      "grid_auto_columns": null,
      "grid_auto_flow": null,
      "grid_auto_rows": null,
      "grid_column": null,
      "grid_gap": null,
      "grid_row": null,
      "grid_template_areas": null,
      "grid_template_columns": null,
      "grid_template_rows": null,
      "height": null,
      "justify_content": null,
      "justify_items": null,
      "left": null,
      "margin": null,
      "max_height": null,
      "max_width": null,
      "min_height": null,
      "min_width": null,
      "object_fit": null,
      "object_position": null,
      "order": null,
      "overflow": null,
      "overflow_x": null,
      "overflow_y": null,
      "padding": null,
      "right": null,
      "top": null,
      "visibility": null,
      "width": null
     }
    },
    "760e044724e446e9bbcc29c75cb9b1c9": {
     "model_module": "@jupyter-widgets/base",
     "model_module_version": "1.2.0",
     "model_name": "LayoutModel",
     "state": {
      "_model_module": "@jupyter-widgets/base",
      "_model_module_version": "1.2.0",
      "_model_name": "LayoutModel",
      "_view_count": null,
      "_view_module": "@jupyter-widgets/base",
      "_view_module_version": "1.2.0",
      "_view_name": "LayoutView",
      "align_content": null,
      "align_items": null,
      "align_self": null,
      "border": null,
      "bottom": null,
      "display": null,
      "flex": null,
      "flex_flow": null,
      "grid_area": null,
      "grid_auto_columns": null,
      "grid_auto_flow": null,
      "grid_auto_rows": null,
      "grid_column": null,
      "grid_gap": null,
      "grid_row": null,
      "grid_template_areas": null,
      "grid_template_columns": null,
      "grid_template_rows": null,
      "height": null,
      "justify_content": null,
      "justify_items": null,
      "left": null,
      "margin": null,
      "max_height": null,
      "max_width": null,
      "min_height": null,
      "min_width": null,
      "object_fit": null,
      "object_position": null,
      "order": null,
      "overflow": null,
      "overflow_x": null,
      "overflow_y": null,
      "padding": null,
      "right": null,
      "top": null,
      "visibility": null,
      "width": null
     }
    },
    "796bd00c36564ab9a8ae081bc1eebcfc": {
     "model_module": "@jupyter-widgets/controls",
     "model_module_version": "1.5.0",
     "model_name": "DescriptionStyleModel",
     "state": {
      "_model_module": "@jupyter-widgets/controls",
      "_model_module_version": "1.5.0",
      "_model_name": "DescriptionStyleModel",
      "_view_count": null,
      "_view_module": "@jupyter-widgets/base",
      "_view_module_version": "1.2.0",
      "_view_name": "StyleView",
      "description_width": ""
     }
    },
    "79ce38e6864c44cabac5269531636018": {
     "model_module": "@jupyter-widgets/controls",
     "model_module_version": "1.5.0",
     "model_name": "DescriptionStyleModel",
     "state": {
      "_model_module": "@jupyter-widgets/controls",
      "_model_module_version": "1.5.0",
      "_model_name": "DescriptionStyleModel",
      "_view_count": null,
      "_view_module": "@jupyter-widgets/base",
      "_view_module_version": "1.2.0",
      "_view_name": "StyleView",
      "description_width": ""
     }
    },
    "858dac52492c46699c63c8c7d0e5625e": {
     "model_module": "@jupyter-widgets/base",
     "model_module_version": "1.2.0",
     "model_name": "LayoutModel",
     "state": {
      "_model_module": "@jupyter-widgets/base",
      "_model_module_version": "1.2.0",
      "_model_name": "LayoutModel",
      "_view_count": null,
      "_view_module": "@jupyter-widgets/base",
      "_view_module_version": "1.2.0",
      "_view_name": "LayoutView",
      "align_content": null,
      "align_items": null,
      "align_self": null,
      "border": null,
      "bottom": null,
      "display": null,
      "flex": null,
      "flex_flow": null,
      "grid_area": null,
      "grid_auto_columns": null,
      "grid_auto_flow": null,
      "grid_auto_rows": null,
      "grid_column": null,
      "grid_gap": null,
      "grid_row": null,
      "grid_template_areas": null,
      "grid_template_columns": null,
      "grid_template_rows": null,
      "height": null,
      "justify_content": null,
      "justify_items": null,
      "left": null,
      "margin": null,
      "max_height": null,
      "max_width": null,
      "min_height": null,
      "min_width": null,
      "object_fit": null,
      "object_position": null,
      "order": null,
      "overflow": null,
      "overflow_x": null,
      "overflow_y": null,
      "padding": null,
      "right": null,
      "top": null,
      "visibility": null,
      "width": null
     }
    },
    "85cd82d7dd55424eb7f29320f2c86d25": {
     "model_module": "@jupyter-widgets/base",
     "model_module_version": "1.2.0",
     "model_name": "LayoutModel",
     "state": {
      "_model_module": "@jupyter-widgets/base",
      "_model_module_version": "1.2.0",
      "_model_name": "LayoutModel",
      "_view_count": null,
      "_view_module": "@jupyter-widgets/base",
      "_view_module_version": "1.2.0",
      "_view_name": "LayoutView",
      "align_content": null,
      "align_items": null,
      "align_self": null,
      "border": null,
      "bottom": null,
      "display": null,
      "flex": null,
      "flex_flow": null,
      "grid_area": null,
      "grid_auto_columns": null,
      "grid_auto_flow": null,
      "grid_auto_rows": null,
      "grid_column": null,
      "grid_gap": null,
      "grid_row": null,
      "grid_template_areas": null,
      "grid_template_columns": null,
      "grid_template_rows": null,
      "height": null,
      "justify_content": null,
      "justify_items": null,
      "left": null,
      "margin": null,
      "max_height": null,
      "max_width": null,
      "min_height": null,
      "min_width": null,
      "object_fit": null,
      "object_position": null,
      "order": null,
      "overflow": null,
      "overflow_x": null,
      "overflow_y": null,
      "padding": null,
      "right": null,
      "top": null,
      "visibility": null,
      "width": null
     }
    },
    "88373c78125c4943b4d962f16f56bf61": {
     "model_module": "@jupyter-widgets/base",
     "model_module_version": "1.2.0",
     "model_name": "LayoutModel",
     "state": {
      "_model_module": "@jupyter-widgets/base",
      "_model_module_version": "1.2.0",
      "_model_name": "LayoutModel",
      "_view_count": null,
      "_view_module": "@jupyter-widgets/base",
      "_view_module_version": "1.2.0",
      "_view_name": "LayoutView",
      "align_content": null,
      "align_items": null,
      "align_self": null,
      "border": null,
      "bottom": null,
      "display": null,
      "flex": null,
      "flex_flow": null,
      "grid_area": null,
      "grid_auto_columns": null,
      "grid_auto_flow": null,
      "grid_auto_rows": null,
      "grid_column": null,
      "grid_gap": null,
      "grid_row": null,
      "grid_template_areas": null,
      "grid_template_columns": null,
      "grid_template_rows": null,
      "height": null,
      "justify_content": null,
      "justify_items": null,
      "left": null,
      "margin": null,
      "max_height": null,
      "max_width": null,
      "min_height": null,
      "min_width": null,
      "object_fit": null,
      "object_position": null,
      "order": null,
      "overflow": null,
      "overflow_x": null,
      "overflow_y": null,
      "padding": null,
      "right": null,
      "top": null,
      "visibility": null,
      "width": null
     }
    },
    "88e165ee13a143bba8747ab7c192119d": {
     "model_module": "@jupyter-widgets/controls",
     "model_module_version": "1.5.0",
     "model_name": "HBoxModel",
     "state": {
      "_dom_classes": [],
      "_model_module": "@jupyter-widgets/controls",
      "_model_module_version": "1.5.0",
      "_model_name": "HBoxModel",
      "_view_count": null,
      "_view_module": "@jupyter-widgets/controls",
      "_view_module_version": "1.5.0",
      "_view_name": "HBoxView",
      "box_style": "",
      "children": [
       "IPY_MODEL_641aa2ab2f294cbba62ab7f2e5dda3b1",
       "IPY_MODEL_dbf8066792124c54b21e397c8632cec4",
       "IPY_MODEL_6125b9e9693d405dbf9b1a0224e1dfbf"
      ],
      "layout": "IPY_MODEL_4bc59c0714884f4993eefd2802ffafe0"
     }
    },
    "8982b27018fc4fdf9d1063633b39f7a0": {
     "model_module": "@jupyter-widgets/base",
     "model_module_version": "1.2.0",
     "model_name": "LayoutModel",
     "state": {
      "_model_module": "@jupyter-widgets/base",
      "_model_module_version": "1.2.0",
      "_model_name": "LayoutModel",
      "_view_count": null,
      "_view_module": "@jupyter-widgets/base",
      "_view_module_version": "1.2.0",
      "_view_name": "LayoutView",
      "align_content": null,
      "align_items": null,
      "align_self": null,
      "border": null,
      "bottom": null,
      "display": null,
      "flex": null,
      "flex_flow": null,
      "grid_area": null,
      "grid_auto_columns": null,
      "grid_auto_flow": null,
      "grid_auto_rows": null,
      "grid_column": null,
      "grid_gap": null,
      "grid_row": null,
      "grid_template_areas": null,
      "grid_template_columns": null,
      "grid_template_rows": null,
      "height": null,
      "justify_content": null,
      "justify_items": null,
      "left": null,
      "margin": null,
      "max_height": null,
      "max_width": null,
      "min_height": null,
      "min_width": null,
      "object_fit": null,
      "object_position": null,
      "order": null,
      "overflow": null,
      "overflow_x": null,
      "overflow_y": null,
      "padding": null,
      "right": null,
      "top": null,
      "visibility": null,
      "width": null
     }
    },
    "8ca5d274e4f9411caec504483630daf5": {
     "model_module": "@jupyter-widgets/controls",
     "model_module_version": "1.5.0",
     "model_name": "FloatProgressModel",
     "state": {
      "_dom_classes": [],
      "_model_module": "@jupyter-widgets/controls",
      "_model_module_version": "1.5.0",
      "_model_name": "FloatProgressModel",
      "_view_count": null,
      "_view_module": "@jupyter-widgets/controls",
      "_view_module_version": "1.5.0",
      "_view_name": "ProgressView",
      "bar_style": "success",
      "description": "",
      "description_tooltip": null,
      "layout": "IPY_MODEL_693b762851ad450cbbcc9aad0bf45765",
      "max": 440449768,
      "min": 0,
      "orientation": "horizontal",
      "style": "IPY_MODEL_59eb0aee6f2044d6931427822e892ec7",
      "value": 440449768
     }
    },
    "8e3df7e6d5014d17993dea1b0105df88": {
     "model_module": "@jupyter-widgets/base",
     "model_module_version": "1.2.0",
     "model_name": "LayoutModel",
     "state": {
      "_model_module": "@jupyter-widgets/base",
      "_model_module_version": "1.2.0",
      "_model_name": "LayoutModel",
      "_view_count": null,
      "_view_module": "@jupyter-widgets/base",
      "_view_module_version": "1.2.0",
      "_view_name": "LayoutView",
      "align_content": null,
      "align_items": null,
      "align_self": null,
      "border": null,
      "bottom": null,
      "display": null,
      "flex": null,
      "flex_flow": null,
      "grid_area": null,
      "grid_auto_columns": null,
      "grid_auto_flow": null,
      "grid_auto_rows": null,
      "grid_column": null,
      "grid_gap": null,
      "grid_row": null,
      "grid_template_areas": null,
      "grid_template_columns": null,
      "grid_template_rows": null,
      "height": null,
      "justify_content": null,
      "justify_items": null,
      "left": null,
      "margin": null,
      "max_height": null,
      "max_width": null,
      "min_height": null,
      "min_width": null,
      "object_fit": null,
      "object_position": null,
      "order": null,
      "overflow": null,
      "overflow_x": null,
      "overflow_y": null,
      "padding": null,
      "right": null,
      "top": null,
      "visibility": null,
      "width": null
     }
    },
    "955fbd47307941a988d150b39649cc1e": {
     "model_module": "@jupyter-widgets/base",
     "model_module_version": "1.2.0",
     "model_name": "LayoutModel",
     "state": {
      "_model_module": "@jupyter-widgets/base",
      "_model_module_version": "1.2.0",
      "_model_name": "LayoutModel",
      "_view_count": null,
      "_view_module": "@jupyter-widgets/base",
      "_view_module_version": "1.2.0",
      "_view_name": "LayoutView",
      "align_content": null,
      "align_items": null,
      "align_self": null,
      "border": null,
      "bottom": null,
      "display": null,
      "flex": null,
      "flex_flow": null,
      "grid_area": null,
      "grid_auto_columns": null,
      "grid_auto_flow": null,
      "grid_auto_rows": null,
      "grid_column": null,
      "grid_gap": null,
      "grid_row": null,
      "grid_template_areas": null,
      "grid_template_columns": null,
      "grid_template_rows": null,
      "height": null,
      "justify_content": null,
      "justify_items": null,
      "left": null,
      "margin": null,
      "max_height": null,
      "max_width": null,
      "min_height": null,
      "min_width": null,
      "object_fit": null,
      "object_position": null,
      "order": null,
      "overflow": null,
      "overflow_x": null,
      "overflow_y": null,
      "padding": null,
      "right": null,
      "top": null,
      "visibility": null,
      "width": null
     }
    },
    "9570395f88da40e5b4177ec9dbf83268": {
     "model_module": "@jupyter-widgets/controls",
     "model_module_version": "1.5.0",
     "model_name": "HTMLModel",
     "state": {
      "_dom_classes": [],
      "_model_module": "@jupyter-widgets/controls",
      "_model_module_version": "1.5.0",
      "_model_name": "HTMLModel",
      "_view_count": null,
      "_view_module": "@jupyter-widgets/controls",
      "_view_module_version": "1.5.0",
      "_view_name": "HTMLView",
      "description": "",
      "description_tooltip": null,
      "layout": "IPY_MODEL_eddc25c8a16b47ea8d38a32a47241a9d",
      "placeholder": "​",
      "style": "IPY_MODEL_d0f7ad0a585143cc891bfcdf7db24f1c",
      "value": " 232k/232k [00:00&lt;00:00, 4.31MB/s]"
     }
    },
    "960ecb584ff14a1e8014368b8604f911": {
     "model_module": "@jupyter-widgets/controls",
     "model_module_version": "1.5.0",
     "model_name": "ProgressStyleModel",
     "state": {
      "_model_module": "@jupyter-widgets/controls",
      "_model_module_version": "1.5.0",
      "_model_name": "ProgressStyleModel",
      "_view_count": null,
      "_view_module": "@jupyter-widgets/base",
      "_view_module_version": "1.2.0",
      "_view_name": "StyleView",
      "bar_color": null,
      "description_width": ""
     }
    },
    "9b000debfab7422f996e3ac095f16702": {
     "model_module": "@jupyter-widgets/base",
     "model_module_version": "1.2.0",
     "model_name": "LayoutModel",
     "state": {
      "_model_module": "@jupyter-widgets/base",
      "_model_module_version": "1.2.0",
      "_model_name": "LayoutModel",
      "_view_count": null,
      "_view_module": "@jupyter-widgets/base",
      "_view_module_version": "1.2.0",
      "_view_name": "LayoutView",
      "align_content": null,
      "align_items": null,
      "align_self": null,
      "border": null,
      "bottom": null,
      "display": null,
      "flex": null,
      "flex_flow": null,
      "grid_area": null,
      "grid_auto_columns": null,
      "grid_auto_flow": null,
      "grid_auto_rows": null,
      "grid_column": null,
      "grid_gap": null,
      "grid_row": null,
      "grid_template_areas": null,
      "grid_template_columns": null,
      "grid_template_rows": null,
      "height": null,
      "justify_content": null,
      "justify_items": null,
      "left": null,
      "margin": null,
      "max_height": null,
      "max_width": null,
      "min_height": null,
      "min_width": null,
      "object_fit": null,
      "object_position": null,
      "order": null,
      "overflow": null,
      "overflow_x": null,
      "overflow_y": null,
      "padding": null,
      "right": null,
      "top": null,
      "visibility": null,
      "width": null
     }
    },
    "9ccc343e64e04bdbab5512dae7026cab": {
     "model_module": "@jupyter-widgets/controls",
     "model_module_version": "1.5.0",
     "model_name": "ProgressStyleModel",
     "state": {
      "_model_module": "@jupyter-widgets/controls",
      "_model_module_version": "1.5.0",
      "_model_name": "ProgressStyleModel",
      "_view_count": null,
      "_view_module": "@jupyter-widgets/base",
      "_view_module_version": "1.2.0",
      "_view_name": "StyleView",
      "bar_color": null,
      "description_width": ""
     }
    },
    "a0c586c19c23467ea6a5590c8e9dd525": {
     "model_module": "@jupyter-widgets/base",
     "model_module_version": "1.2.0",
     "model_name": "LayoutModel",
     "state": {
      "_model_module": "@jupyter-widgets/base",
      "_model_module_version": "1.2.0",
      "_model_name": "LayoutModel",
      "_view_count": null,
      "_view_module": "@jupyter-widgets/base",
      "_view_module_version": "1.2.0",
      "_view_name": "LayoutView",
      "align_content": null,
      "align_items": null,
      "align_self": null,
      "border": null,
      "bottom": null,
      "display": null,
      "flex": null,
      "flex_flow": null,
      "grid_area": null,
      "grid_auto_columns": null,
      "grid_auto_flow": null,
      "grid_auto_rows": null,
      "grid_column": null,
      "grid_gap": null,
      "grid_row": null,
      "grid_template_areas": null,
      "grid_template_columns": null,
      "grid_template_rows": null,
      "height": null,
      "justify_content": null,
      "justify_items": null,
      "left": null,
      "margin": null,
      "max_height": null,
      "max_width": null,
      "min_height": null,
      "min_width": null,
      "object_fit": null,
      "object_position": null,
      "order": null,
      "overflow": null,
      "overflow_x": null,
      "overflow_y": null,
      "padding": null,
      "right": null,
      "top": null,
      "visibility": null,
      "width": null
     }
    },
    "a10bedcb7faa4630b22524981af7c17e": {
     "model_module": "@jupyter-widgets/controls",
     "model_module_version": "1.5.0",
     "model_name": "DescriptionStyleModel",
     "state": {
      "_model_module": "@jupyter-widgets/controls",
      "_model_module_version": "1.5.0",
      "_model_name": "DescriptionStyleModel",
      "_view_count": null,
      "_view_module": "@jupyter-widgets/base",
      "_view_module_version": "1.2.0",
      "_view_name": "StyleView",
      "description_width": ""
     }
    },
    "abdbb580d76944f497e6cc191d742a30": {
     "model_module": "@jupyter-widgets/controls",
     "model_module_version": "1.5.0",
     "model_name": "ProgressStyleModel",
     "state": {
      "_model_module": "@jupyter-widgets/controls",
      "_model_module_version": "1.5.0",
      "_model_name": "ProgressStyleModel",
      "_view_count": null,
      "_view_module": "@jupyter-widgets/base",
      "_view_module_version": "1.2.0",
      "_view_name": "StyleView",
      "bar_color": null,
      "description_width": ""
     }
    },
    "ac24b965e2e54e098f7a79953584a50c": {
     "model_module": "@jupyter-widgets/base",
     "model_module_version": "1.2.0",
     "model_name": "LayoutModel",
     "state": {
      "_model_module": "@jupyter-widgets/base",
      "_model_module_version": "1.2.0",
      "_model_name": "LayoutModel",
      "_view_count": null,
      "_view_module": "@jupyter-widgets/base",
      "_view_module_version": "1.2.0",
      "_view_name": "LayoutView",
      "align_content": null,
      "align_items": null,
      "align_self": null,
      "border": null,
      "bottom": null,
      "display": null,
      "flex": null,
      "flex_flow": null,
      "grid_area": null,
      "grid_auto_columns": null,
      "grid_auto_flow": null,
      "grid_auto_rows": null,
      "grid_column": null,
      "grid_gap": null,
      "grid_row": null,
      "grid_template_areas": null,
      "grid_template_columns": null,
      "grid_template_rows": null,
      "height": null,
      "justify_content": null,
      "justify_items": null,
      "left": null,
      "margin": null,
      "max_height": null,
      "max_width": null,
      "min_height": null,
      "min_width": null,
      "object_fit": null,
      "object_position": null,
      "order": null,
      "overflow": null,
      "overflow_x": null,
      "overflow_y": null,
      "padding": null,
      "right": null,
      "top": null,
      "visibility": null,
      "width": null
     }
    },
    "b6e8e704af554ff18459be4d92a15332": {
     "model_module": "@jupyter-widgets/controls",
     "model_module_version": "1.5.0",
     "model_name": "DescriptionStyleModel",
     "state": {
      "_model_module": "@jupyter-widgets/controls",
      "_model_module_version": "1.5.0",
      "_model_name": "DescriptionStyleModel",
      "_view_count": null,
      "_view_module": "@jupyter-widgets/base",
      "_view_module_version": "1.2.0",
      "_view_name": "StyleView",
      "description_width": ""
     }
    },
    "b8f3504271b842b89cdcc10175951f6c": {
     "model_module": "@jupyter-widgets/controls",
     "model_module_version": "1.5.0",
     "model_name": "DescriptionStyleModel",
     "state": {
      "_model_module": "@jupyter-widgets/controls",
      "_model_module_version": "1.5.0",
      "_model_name": "DescriptionStyleModel",
      "_view_count": null,
      "_view_module": "@jupyter-widgets/base",
      "_view_module_version": "1.2.0",
      "_view_name": "StyleView",
      "description_width": ""
     }
    },
    "c0def739804a4c04b3404b73eb1f37c6": {
     "model_module": "@jupyter-widgets/base",
     "model_module_version": "1.2.0",
     "model_name": "LayoutModel",
     "state": {
      "_model_module": "@jupyter-widgets/base",
      "_model_module_version": "1.2.0",
      "_model_name": "LayoutModel",
      "_view_count": null,
      "_view_module": "@jupyter-widgets/base",
      "_view_module_version": "1.2.0",
      "_view_name": "LayoutView",
      "align_content": null,
      "align_items": null,
      "align_self": null,
      "border": null,
      "bottom": null,
      "display": null,
      "flex": null,
      "flex_flow": null,
      "grid_area": null,
      "grid_auto_columns": null,
      "grid_auto_flow": null,
      "grid_auto_rows": null,
      "grid_column": null,
      "grid_gap": null,
      "grid_row": null,
      "grid_template_areas": null,
      "grid_template_columns": null,
      "grid_template_rows": null,
      "height": null,
      "justify_content": null,
      "justify_items": null,
      "left": null,
      "margin": null,
      "max_height": null,
      "max_width": null,
      "min_height": null,
      "min_width": null,
      "object_fit": null,
      "object_position": null,
      "order": null,
      "overflow": null,
      "overflow_x": null,
      "overflow_y": null,
      "padding": null,
      "right": null,
      "top": null,
      "visibility": null,
      "width": null
     }
    },
    "c1bb07bb8e91486e9b04ba3842fe3c4d": {
     "model_module": "@jupyter-widgets/controls",
     "model_module_version": "1.5.0",
     "model_name": "DescriptionStyleModel",
     "state": {
      "_model_module": "@jupyter-widgets/controls",
      "_model_module_version": "1.5.0",
      "_model_name": "DescriptionStyleModel",
      "_view_count": null,
      "_view_module": "@jupyter-widgets/base",
      "_view_module_version": "1.2.0",
      "_view_name": "StyleView",
      "description_width": ""
     }
    },
    "c2e8d6e54f0e496193cef7b5a6557b95": {
     "model_module": "@jupyter-widgets/controls",
     "model_module_version": "1.5.0",
     "model_name": "FloatProgressModel",
     "state": {
      "_dom_classes": [],
      "_model_module": "@jupyter-widgets/controls",
      "_model_module_version": "1.5.0",
      "_model_name": "FloatProgressModel",
      "_view_count": null,
      "_view_module": "@jupyter-widgets/controls",
      "_view_module_version": "1.5.0",
      "_view_name": "ProgressView",
      "bar_style": "success",
      "description": "",
      "description_tooltip": null,
      "layout": "IPY_MODEL_11d62ff1b9364b9880cb84f6035f8391",
      "max": 860,
      "min": 0,
      "orientation": "horizontal",
      "style": "IPY_MODEL_960ecb584ff14a1e8014368b8604f911",
      "value": 860
     }
    },
    "c6fb67142800433dadb12cfae440958a": {
     "model_module": "@jupyter-widgets/controls",
     "model_module_version": "1.5.0",
     "model_name": "FloatProgressModel",
     "state": {
      "_dom_classes": [],
      "_model_module": "@jupyter-widgets/controls",
      "_model_module_version": "1.5.0",
      "_model_name": "FloatProgressModel",
      "_view_count": null,
      "_view_module": "@jupyter-widgets/controls",
      "_view_module_version": "1.5.0",
      "_view_name": "ProgressView",
      "bar_style": "success",
      "description": "",
      "description_tooltip": null,
      "layout": "IPY_MODEL_a0c586c19c23467ea6a5590c8e9dd525",
      "max": 860,
      "min": 0,
      "orientation": "horizontal",
      "style": "IPY_MODEL_104ca82e8ffa4785b82c55a37585d7b8",
      "value": 860
     }
    },
    "c87e36d6515347448709f0940dcc36d4": {
     "model_module": "@jupyter-widgets/controls",
     "model_module_version": "1.5.0",
     "model_name": "DescriptionStyleModel",
     "state": {
      "_model_module": "@jupyter-widgets/controls",
      "_model_module_version": "1.5.0",
      "_model_name": "DescriptionStyleModel",
      "_view_count": null,
      "_view_module": "@jupyter-widgets/base",
      "_view_module_version": "1.2.0",
      "_view_name": "StyleView",
      "description_width": ""
     }
    },
    "ca4748f442f6428582a55959c6f7e93c": {
     "model_module": "@jupyter-widgets/base",
     "model_module_version": "1.2.0",
     "model_name": "LayoutModel",
     "state": {
      "_model_module": "@jupyter-widgets/base",
      "_model_module_version": "1.2.0",
      "_model_name": "LayoutModel",
      "_view_count": null,
      "_view_module": "@jupyter-widgets/base",
      "_view_module_version": "1.2.0",
      "_view_name": "LayoutView",
      "align_content": null,
      "align_items": null,
      "align_self": null,
      "border": null,
      "bottom": null,
      "display": null,
      "flex": null,
      "flex_flow": null,
      "grid_area": null,
      "grid_auto_columns": null,
      "grid_auto_flow": null,
      "grid_auto_rows": null,
      "grid_column": null,
      "grid_gap": null,
      "grid_row": null,
      "grid_template_areas": null,
      "grid_template_columns": null,
      "grid_template_rows": null,
      "height": null,
      "justify_content": null,
      "justify_items": null,
      "left": null,
      "margin": null,
      "max_height": null,
      "max_width": null,
      "min_height": null,
      "min_width": null,
      "object_fit": null,
      "object_position": null,
      "order": null,
      "overflow": null,
      "overflow_x": null,
      "overflow_y": null,
      "padding": null,
      "right": null,
      "top": null,
      "visibility": null,
      "width": null
     }
    },
    "cb2c295252114abe8d2330e1f7fb2801": {
     "model_module": "@jupyter-widgets/controls",
     "model_module_version": "1.5.0",
     "model_name": "DescriptionStyleModel",
     "state": {
      "_model_module": "@jupyter-widgets/controls",
      "_model_module_version": "1.5.0",
      "_model_name": "DescriptionStyleModel",
      "_view_count": null,
      "_view_module": "@jupyter-widgets/base",
      "_view_module_version": "1.2.0",
      "_view_name": "StyleView",
      "description_width": ""
     }
    },
    "ce5fcca494fc4ddbaa30e0569aeb8b1b": {
     "model_module": "@jupyter-widgets/controls",
     "model_module_version": "1.5.0",
     "model_name": "HTMLModel",
     "state": {
      "_dom_classes": [],
      "_model_module": "@jupyter-widgets/controls",
      "_model_module_version": "1.5.0",
      "_model_name": "HTMLModel",
      "_view_count": null,
      "_view_module": "@jupyter-widgets/controls",
      "_view_module_version": "1.5.0",
      "_view_name": "HTMLView",
      "description": "",
      "description_tooltip": null,
      "layout": "IPY_MODEL_75cd3757d0c74be3a43c1a775b0d482e",
      "placeholder": "​",
      "style": "IPY_MODEL_27612949a5d64b83907baa0e043e3e0d",
      "value": "100%"
     }
    },
    "d0f7ad0a585143cc891bfcdf7db24f1c": {
     "model_module": "@jupyter-widgets/controls",
     "model_module_version": "1.5.0",
     "model_name": "DescriptionStyleModel",
     "state": {
      "_model_module": "@jupyter-widgets/controls",
      "_model_module_version": "1.5.0",
      "_model_name": "DescriptionStyleModel",
      "_view_count": null,
      "_view_module": "@jupyter-widgets/base",
      "_view_module_version": "1.2.0",
      "_view_name": "StyleView",
      "description_width": ""
     }
    },
    "d76fb1d36b624d53a118dff5fb95a494": {
     "model_module": "@jupyter-widgets/controls",
     "model_module_version": "1.5.0",
     "model_name": "DescriptionStyleModel",
     "state": {
      "_model_module": "@jupyter-widgets/controls",
      "_model_module_version": "1.5.0",
      "_model_name": "DescriptionStyleModel",
      "_view_count": null,
      "_view_module": "@jupyter-widgets/base",
      "_view_module_version": "1.2.0",
      "_view_name": "StyleView",
      "description_width": ""
     }
    },
    "d7d10183bdcc4edb90c0f1c5be47dd6b": {
     "model_module": "@jupyter-widgets/controls",
     "model_module_version": "1.5.0",
     "model_name": "HTMLModel",
     "state": {
      "_dom_classes": [],
      "_model_module": "@jupyter-widgets/controls",
      "_model_module_version": "1.5.0",
      "_model_name": "HTMLModel",
      "_view_count": null,
      "_view_module": "@jupyter-widgets/controls",
      "_view_module_version": "1.5.0",
      "_view_name": "HTMLView",
      "description": "",
      "description_tooltip": null,
      "layout": "IPY_MODEL_9b000debfab7422f996e3ac095f16702",
      "placeholder": "​",
      "style": "IPY_MODEL_79ce38e6864c44cabac5269531636018",
      "value": " 570/570 [00:00&lt;00:00, 44.6kB/s]"
     }
    },
    "da2a07ac09684e0c9aa66bbfc33100a3": {
     "model_module": "@jupyter-widgets/base",
     "model_module_version": "1.2.0",
     "model_name": "LayoutModel",
     "state": {
      "_model_module": "@jupyter-widgets/base",
      "_model_module_version": "1.2.0",
      "_model_name": "LayoutModel",
      "_view_count": null,
      "_view_module": "@jupyter-widgets/base",
      "_view_module_version": "1.2.0",
      "_view_name": "LayoutView",
      "align_content": null,
      "align_items": null,
      "align_self": null,
      "border": null,
      "bottom": null,
      "display": null,
      "flex": null,
      "flex_flow": null,
      "grid_area": null,
      "grid_auto_columns": null,
      "grid_auto_flow": null,
      "grid_auto_rows": null,
      "grid_column": null,
      "grid_gap": null,
      "grid_row": null,
      "grid_template_areas": null,
      "grid_template_columns": null,
      "grid_template_rows": null,
      "height": null,
      "justify_content": null,
      "justify_items": null,
      "left": null,
      "margin": null,
      "max_height": null,
      "max_width": null,
      "min_height": null,
      "min_width": null,
      "object_fit": null,
      "object_position": null,
      "order": null,
      "overflow": null,
      "overflow_x": null,
      "overflow_y": null,
      "padding": null,
      "right": null,
      "top": null,
      "visibility": null,
      "width": null
     }
    },
    "dbf8066792124c54b21e397c8632cec4": {
     "model_module": "@jupyter-widgets/controls",
     "model_module_version": "1.5.0",
     "model_name": "FloatProgressModel",
     "state": {
      "_dom_classes": [],
      "_model_module": "@jupyter-widgets/controls",
      "_model_module_version": "1.5.0",
      "_model_name": "FloatProgressModel",
      "_view_count": null,
      "_view_module": "@jupyter-widgets/controls",
      "_view_module_version": "1.5.0",
      "_view_name": "ProgressView",
      "bar_style": "success",
      "description": "",
      "description_tooltip": null,
      "layout": "IPY_MODEL_02325303d03244c396a1f598a212b280",
      "max": 28,
      "min": 0,
      "orientation": "horizontal",
      "style": "IPY_MODEL_2476d0358ff24fd69400ddbe3aaed987",
      "value": 28
     }
    },
    "de3fe5b3bf514f1eb94f40d795dd4efc": {
     "model_module": "@jupyter-widgets/controls",
     "model_module_version": "1.5.0",
     "model_name": "HBoxModel",
     "state": {
      "_dom_classes": [],
      "_model_module": "@jupyter-widgets/controls",
      "_model_module_version": "1.5.0",
      "_model_name": "HBoxModel",
      "_view_count": null,
      "_view_module": "@jupyter-widgets/controls",
      "_view_module_version": "1.5.0",
      "_view_name": "HBoxView",
      "box_style": "",
      "children": [
       "IPY_MODEL_ea5873e53cea4b3a9e6e208914355edf",
       "IPY_MODEL_f7494d98fa264b77a448e42de8ed5e67",
       "IPY_MODEL_24c22dbfcd234a8cb2e9b4e5a87234b6"
      ],
      "layout": "IPY_MODEL_56422d46bc6c46fc87b294850fc680f1"
     }
    },
    "e33b5308a4284a6a912c2e8d72cf23c0": {
     "model_module": "@jupyter-widgets/controls",
     "model_module_version": "1.5.0",
     "model_name": "ProgressStyleModel",
     "state": {
      "_model_module": "@jupyter-widgets/controls",
      "_model_module_version": "1.5.0",
      "_model_name": "ProgressStyleModel",
      "_view_count": null,
      "_view_module": "@jupyter-widgets/base",
      "_view_module_version": "1.2.0",
      "_view_name": "StyleView",
      "bar_color": null,
      "description_width": ""
     }
    },
    "e3a577ebd37d41049e0bf947ed608794": {
     "model_module": "@jupyter-widgets/controls",
     "model_module_version": "1.5.0",
     "model_name": "HTMLModel",
     "state": {
      "_dom_classes": [],
      "_model_module": "@jupyter-widgets/controls",
      "_model_module_version": "1.5.0",
      "_model_name": "HTMLModel",
      "_view_count": null,
      "_view_module": "@jupyter-widgets/controls",
      "_view_module_version": "1.5.0",
      "_view_name": "HTMLView",
      "description": "",
      "description_tooltip": null,
      "layout": "IPY_MODEL_ac24b965e2e54e098f7a79953584a50c",
      "placeholder": "​",
      "style": "IPY_MODEL_b8f3504271b842b89cdcc10175951f6c",
      "value": "Downloading model.safetensors: 100%"
     }
    },
    "e80385043e5f4763a272979f7522e55a": {
     "model_module": "@jupyter-widgets/controls",
     "model_module_version": "1.5.0",
     "model_name": "HBoxModel",
     "state": {
      "_dom_classes": [],
      "_model_module": "@jupyter-widgets/controls",
      "_model_module_version": "1.5.0",
      "_model_name": "HBoxModel",
      "_view_count": null,
      "_view_module": "@jupyter-widgets/controls",
      "_view_module_version": "1.5.0",
      "_view_name": "HBoxView",
      "box_style": "",
      "children": [
       "IPY_MODEL_ce5fcca494fc4ddbaa30e0569aeb8b1b",
       "IPY_MODEL_c2e8d6e54f0e496193cef7b5a6557b95",
       "IPY_MODEL_668a07486fb6496b8e32d34c1606c9ff"
      ],
      "layout": "IPY_MODEL_1a15573829864638b9f4433a32e340f1"
     }
    },
    "ea5873e53cea4b3a9e6e208914355edf": {
     "model_module": "@jupyter-widgets/controls",
     "model_module_version": "1.5.0",
     "model_name": "HTMLModel",
     "state": {
      "_dom_classes": [],
      "_model_module": "@jupyter-widgets/controls",
      "_model_module_version": "1.5.0",
      "_model_name": "HTMLModel",
      "_view_count": null,
      "_view_module": "@jupyter-widgets/controls",
      "_view_module_version": "1.5.0",
      "_view_name": "HTMLView",
      "description": "",
      "description_tooltip": null,
      "layout": "IPY_MODEL_da2a07ac09684e0c9aa66bbfc33100a3",
      "placeholder": "​",
      "style": "IPY_MODEL_62578c5e66004175915c3bf9346efa1d",
      "value": "100%"
     }
    },
    "eda7fd9aaeef4e368a11d4c207af30a4": {
     "model_module": "@jupyter-widgets/base",
     "model_module_version": "1.2.0",
     "model_name": "LayoutModel",
     "state": {
      "_model_module": "@jupyter-widgets/base",
      "_model_module_version": "1.2.0",
      "_model_name": "LayoutModel",
      "_view_count": null,
      "_view_module": "@jupyter-widgets/base",
      "_view_module_version": "1.2.0",
      "_view_name": "LayoutView",
      "align_content": null,
      "align_items": null,
      "align_self": null,
      "border": null,
      "bottom": null,
      "display": null,
      "flex": null,
      "flex_flow": null,
      "grid_area": null,
      "grid_auto_columns": null,
      "grid_auto_flow": null,
      "grid_auto_rows": null,
      "grid_column": null,
      "grid_gap": null,
      "grid_row": null,
      "grid_template_areas": null,
      "grid_template_columns": null,
      "grid_template_rows": null,
      "height": null,
      "justify_content": null,
      "justify_items": null,
      "left": null,
      "margin": null,
      "max_height": null,
      "max_width": null,
      "min_height": null,
      "min_width": null,
      "object_fit": null,
      "object_position": null,
      "order": null,
      "overflow": null,
      "overflow_x": null,
      "overflow_y": null,
      "padding": null,
      "right": null,
      "top": null,
      "visibility": null,
      "width": null
     }
    },
    "edce3d2b9f0f48f087f0ab71b6cf5f3c": {
     "model_module": "@jupyter-widgets/controls",
     "model_module_version": "1.5.0",
     "model_name": "HBoxModel",
     "state": {
      "_dom_classes": [],
      "_model_module": "@jupyter-widgets/controls",
      "_model_module_version": "1.5.0",
      "_model_name": "HBoxModel",
      "_view_count": null,
      "_view_module": "@jupyter-widgets/controls",
      "_view_module_version": "1.5.0",
      "_view_name": "HBoxView",
      "box_style": "",
      "children": [
       "IPY_MODEL_e3a577ebd37d41049e0bf947ed608794",
       "IPY_MODEL_8ca5d274e4f9411caec504483630daf5",
       "IPY_MODEL_ffe39ca07e34402f88c01ded7bdeb882"
      ],
      "layout": "IPY_MODEL_85cd82d7dd55424eb7f29320f2c86d25"
     }
    },
    "eddc25c8a16b47ea8d38a32a47241a9d": {
     "model_module": "@jupyter-widgets/base",
     "model_module_version": "1.2.0",
     "model_name": "LayoutModel",
     "state": {
      "_model_module": "@jupyter-widgets/base",
      "_model_module_version": "1.2.0",
      "_model_name": "LayoutModel",
      "_view_count": null,
      "_view_module": "@jupyter-widgets/base",
      "_view_module_version": "1.2.0",
      "_view_name": "LayoutView",
      "align_content": null,
      "align_items": null,
      "align_self": null,
      "border": null,
      "bottom": null,
      "display": null,
      "flex": null,
      "flex_flow": null,
      "grid_area": null,
      "grid_auto_columns": null,
      "grid_auto_flow": null,
      "grid_auto_rows": null,
      "grid_column": null,
      "grid_gap": null,
      "grid_row": null,
      "grid_template_areas": null,
      "grid_template_columns": null,
      "grid_template_rows": null,
      "height": null,
      "justify_content": null,
      "justify_items": null,
      "left": null,
      "margin": null,
      "max_height": null,
      "max_width": null,
      "min_height": null,
      "min_width": null,
      "object_fit": null,
      "object_position": null,
      "order": null,
      "overflow": null,
      "overflow_x": null,
      "overflow_y": null,
      "padding": null,
      "right": null,
      "top": null,
      "visibility": null,
      "width": null
     }
    },
    "f40de586ee044accaabd9d1c2e5e6523": {
     "model_module": "@jupyter-widgets/controls",
     "model_module_version": "1.5.0",
     "model_name": "DescriptionStyleModel",
     "state": {
      "_model_module": "@jupyter-widgets/controls",
      "_model_module_version": "1.5.0",
      "_model_name": "DescriptionStyleModel",
      "_view_count": null,
      "_view_module": "@jupyter-widgets/base",
      "_view_module_version": "1.2.0",
      "_view_name": "StyleView",
      "description_width": ""
     }
    },
    "f46424c47d3b4b2596675c77dac1dd9a": {
     "model_module": "@jupyter-widgets/base",
     "model_module_version": "1.2.0",
     "model_name": "LayoutModel",
     "state": {
      "_model_module": "@jupyter-widgets/base",
      "_model_module_version": "1.2.0",
      "_model_name": "LayoutModel",
      "_view_count": null,
      "_view_module": "@jupyter-widgets/base",
      "_view_module_version": "1.2.0",
      "_view_name": "LayoutView",
      "align_content": null,
      "align_items": null,
      "align_self": null,
      "border": null,
      "bottom": null,
      "display": null,
      "flex": null,
      "flex_flow": null,
      "grid_area": null,
      "grid_auto_columns": null,
      "grid_auto_flow": null,
      "grid_auto_rows": null,
      "grid_column": null,
      "grid_gap": null,
      "grid_row": null,
      "grid_template_areas": null,
      "grid_template_columns": null,
      "grid_template_rows": null,
      "height": null,
      "justify_content": null,
      "justify_items": null,
      "left": null,
      "margin": null,
      "max_height": null,
      "max_width": null,
      "min_height": null,
      "min_width": null,
      "object_fit": null,
      "object_position": null,
      "order": null,
      "overflow": null,
      "overflow_x": null,
      "overflow_y": null,
      "padding": null,
      "right": null,
      "top": null,
      "visibility": null,
      "width": null
     }
    },
    "f4ec303b655441e1a8c7a647a1c76148": {
     "model_module": "@jupyter-widgets/controls",
     "model_module_version": "1.5.0",
     "model_name": "FloatProgressModel",
     "state": {
      "_dom_classes": [],
      "_model_module": "@jupyter-widgets/controls",
      "_model_module_version": "1.5.0",
      "_model_name": "FloatProgressModel",
      "_view_count": null,
      "_view_module": "@jupyter-widgets/controls",
      "_view_module_version": "1.5.0",
      "_view_name": "ProgressView",
      "bar_style": "success",
      "description": "",
      "description_tooltip": null,
      "layout": "IPY_MODEL_084f59deb4414f318f009716f1e280a2",
      "max": 3439,
      "min": 0,
      "orientation": "horizontal",
      "style": "IPY_MODEL_e33b5308a4284a6a912c2e8d72cf23c0",
      "value": 3439
     }
    },
    "f7494d98fa264b77a448e42de8ed5e67": {
     "model_module": "@jupyter-widgets/controls",
     "model_module_version": "1.5.0",
     "model_name": "FloatProgressModel",
     "state": {
      "_dom_classes": [],
      "_model_module": "@jupyter-widgets/controls",
      "_model_module_version": "1.5.0",
      "_model_name": "FloatProgressModel",
      "_view_count": null,
      "_view_module": "@jupyter-widgets/controls",
      "_view_module_version": "1.5.0",
      "_view_name": "ProgressView",
      "bar_style": "success",
      "description": "",
      "description_tooltip": null,
      "layout": "IPY_MODEL_c0def739804a4c04b3404b73eb1f37c6",
      "max": 3439,
      "min": 0,
      "orientation": "horizontal",
      "style": "IPY_MODEL_9ccc343e64e04bdbab5512dae7026cab",
      "value": 3439
     }
    },
    "ffe39ca07e34402f88c01ded7bdeb882": {
     "model_module": "@jupyter-widgets/controls",
     "model_module_version": "1.5.0",
     "model_name": "HTMLModel",
     "state": {
      "_dom_classes": [],
      "_model_module": "@jupyter-widgets/controls",
      "_model_module_version": "1.5.0",
      "_model_name": "HTMLModel",
      "_view_count": null,
      "_view_module": "@jupyter-widgets/controls",
      "_view_module_version": "1.5.0",
      "_view_name": "HTMLView",
      "description": "",
      "description_tooltip": null,
      "layout": "IPY_MODEL_1ad599de24b2431294d74a2cf5d5241d",
      "placeholder": "​",
      "style": "IPY_MODEL_a10bedcb7faa4630b22524981af7c17e",
      "value": " 440M/440M [00:02&lt;00:00, 218MB/s]"
     }
    }
   }
  }
 },
 "nbformat": 4,
 "nbformat_minor": 1
}
